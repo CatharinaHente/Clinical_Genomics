{
 "cells": [
  {
   "cell_type": "code",
   "execution_count": 1,
   "metadata": {},
   "outputs": [
    {
     "ename": "ModuleNotFoundError",
     "evalue": "No module named 'skbio'",
     "output_type": "error",
     "traceback": [
      "\u001b[0;31m---------------------------------------------------------------------------\u001b[0m",
      "\u001b[0;31mModuleNotFoundError\u001b[0m                       Traceback (most recent call last)",
      "Cell \u001b[0;32mIn[1], line 5\u001b[0m\n\u001b[1;32m      3\u001b[0m \u001b[38;5;28;01mimport\u001b[39;00m \u001b[38;5;21;01mrandom\u001b[39;00m\n\u001b[1;32m      4\u001b[0m \u001b[38;5;28;01mimport\u001b[39;00m \u001b[38;5;21;01mpickle\u001b[39;00m\n\u001b[0;32m----> 5\u001b[0m \u001b[38;5;28;01mfrom\u001b[39;00m \u001b[38;5;21;01mskbio\u001b[39;00m \u001b[38;5;28;01mimport\u001b[39;00m TreeNode\n\u001b[1;32m      6\u001b[0m \u001b[38;5;28;01mfrom\u001b[39;00m \u001b[38;5;21;01mskbio\u001b[39;00m\u001b[38;5;21;01m.\u001b[39;00m\u001b[38;5;21;01mstats\u001b[39;00m\u001b[38;5;21;01m.\u001b[39;00m\u001b[38;5;21;01mordination\u001b[39;00m \u001b[38;5;28;01mimport\u001b[39;00m pcoa\n\u001b[1;32m      7\u001b[0m \u001b[38;5;28;01mfrom\u001b[39;00m \u001b[38;5;21;01mbiom\u001b[39;00m \u001b[38;5;28;01mimport\u001b[39;00m Table\n",
      "\u001b[0;31mModuleNotFoundError\u001b[0m: No module named 'skbio'"
     ]
    }
   ],
   "source": [
    "import numpy as np\n",
    "import pandas as pd\n",
    "import random\n",
    "import pickle\n",
    "from skbio import TreeNode\n",
    "from skbio.stats.ordination import pcoa\n",
    "from biom import Table\n",
    "\n",
    "# Set the random seed for reproducibility\n",
    "np.random.seed(531)\n",
    "random.seed(531)\n",
    "\n",
    "# Load data files\n",
    "with open(\"seqtab_all_no_chimeras_tax_SLV138.1\", \"rb\") as f:\n",
    "    seqtab_all_no_chimeras_tax_SLV138 = pickle.load(f)\n",
    "\n",
    "with open(\"seqtab_all_no_chimeras\", \"rb\") as f:\n",
    "    seqtab_all_no_chimeras = pickle.load(f)\n",
    "\n",
    "with open(\"LCPM_all_ids\", \"rb\") as f:\n",
    "    LCPM_all_ids = pickle.load(f)\n",
    "\n",
    "# Create a pandas DataFrame for taxonomy and OTU data\n",
    "tax_df = pd.DataFrame(seqtab_all_no_chimeras_tax_SLV138)\n",
    "otu_df = pd.DataFrame(seqtab_all_no_chimeras)\n",
    "sample_df = pd.DataFrame(LCPM_all_ids)\n",
    "\n",
    "# Remove taxa with zero counts across all samples\n",
    "taxa_sums = otu_df.sum(axis=1)\n",
    "otu_df = otu_df[taxa_sums > 0]\n",
    "\n",
    "# Renaming taxa names\n",
    "tax_df.fillna(\"unclassified\", inplace=True)\n",
    "\n",
    "# Prefix taxa ranks with unique labels if they are unclassified\n",
    "tax_df['Genus'] = tax_df['Genus'].apply(lambda x: f\"g_{x}\")\n",
    "tax_df['Family'] = tax_df['Family'].apply(lambda x: f\"uc_f_{x}\")\n",
    "tax_df['Order'] = tax_df['Order'].apply(lambda x: f\"uc_o_{x}\")\n",
    "tax_df['Class'] = tax_df['Class'].apply(lambda x: f\"uc_c_{x}\")\n",
    "tax_df['Phylum'] = tax_df['Phylum'].apply(lambda x: f\"uc_p_{x}\")\n",
    "\n",
    "# Update unclassified Genus with higher taxonomic ranks where needed\n",
    "tax_df['Genus'] = np.where(tax_df['Genus'] == \"g_unclassified\", tax_df['Family'], tax_df['Genus'])\n",
    "tax_df['Genus'] = np.where(tax_df['Genus'] == \"uc_f_unclassified\", tax_df['Order'], tax_df['Genus'])\n",
    "tax_df['Genus'] = np.where(tax_df['Genus'] == \"uc_o_unclassified\", tax_df['Class'], tax_df['Genus'])\n",
    "tax_df['Genus'] = np.where(tax_df['Genus'] == \"uc_c_unclassified\", tax_df['Phylum'], tax_df['Genus'])\n",
    "\n",
    "# Combine Genus and Species with a dot separator\n",
    "tax_df['Species'] = tax_df['Genus'] + '.' + tax_df['Species']\n",
    "\n",
    "# Remove non-bacterial, archaea, and Homo sapiens reads\n",
    "filtered_tax_df = tax_df[\n",
    "    ~tax_df['Order'].isin(['uc_o_Chloroplast']) &\n",
    "    ~tax_df['Family'].isin(['uc_f_Mitochondria']) &\n",
    "    ~tax_df['Genus'].isin(['uc_p_unclassified', 'uc_f_Mitochondria'])\n",
    "]\n",
    "\n",
    "# Save the filtered data\n",
    "with open(\"LCPM_all_names_edited_filtered\", \"wb\") as f:\n",
    "    pickle.dump(filtered_tax_df, f)\n",
    "\n",
    "print(\"Filtered taxonomy data saved as LCPM_all_names_edited_filtered\")\n"
   ]
  }
 ],
 "metadata": {
  "kernelspec": {
   "display_name": "base",
   "language": "python",
   "name": "python3"
  },
  "language_info": {
   "codemirror_mode": {
    "name": "ipython",
    "version": 3
   },
   "file_extension": ".py",
   "mimetype": "text/x-python",
   "name": "python",
   "nbconvert_exporter": "python",
   "pygments_lexer": "ipython3",
   "version": "3.11.5"
  }
 },
 "nbformat": 4,
 "nbformat_minor": 2
}
