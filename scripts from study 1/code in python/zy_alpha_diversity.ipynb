{
 "cells": [
  {
   "cell_type": "code",
   "execution_count": null,
   "metadata": {
    "vscode": {
     "languageId": "plaintext"
    }
   },
   "outputs": [],
   "source": [
    "import numpy as np\n",
    "import pandas as pd\n",
    "from skbio.diversity.alpha import shannon\n",
    "from skbio.stats.composition import multiplicative_replacement\n",
    "import matplotlib.pyplot as plt\n",
    "import seaborn as sns\n",
    "from scipy.stats import wilcoxon, mannwhitneyu\n",
    "import itertools"
   ]
  },
  {
   "cell_type": "code",
   "execution_count": null,
   "metadata": {
    "vscode": {
     "languageId": "plaintext"
    }
   },
   "outputs": [],
   "source": [
    "def get_pan_data(data):\n",
    "    \"\"\"\n",
    "    Generate species accumulation curve data.\n",
    "    Args:\n",
    "        data: A Pandas DataFrame where rows represent species and columns represent samples.\n",
    "    Returns:\n",
    "        A DataFrame with richness, standard deviation, and site information.\n",
    "    \"\"\"\n",
    "    n_samples = data.shape[1]\n",
    "    richness = []\n",
    "    sd = []\n",
    "    \n",
    "    for i in range(1, n_samples + 1):\n",
    "        subset = data.iloc[:, :i]\n",
    "        richness.append(subset.sum(axis=1).gt(0).sum())\n",
    "        sd.append(np.std(subset.sum(axis=1).gt(0)))\n",
    "    \n",
    "    return pd.DataFrame({\n",
    "        \"Sites\": range(1, n_samples + 1),\n",
    "        \"Richness\": richness,\n",
    "        \"SD\": sd\n",
    "    })"
   ]
  },
  {
   "cell_type": "code",
   "execution_count": null,
   "metadata": {
    "vscode": {
     "languageId": "plaintext"
    }
   },
   "outputs": [],
   "source": [
    "def zy_nspecies(dt, sample_map, group=\"Group\", ID=\"Sample\", sample_color=None, title=\"Rarefaction Curve Analysis\"):\n",
    "    \"\"\"\n",
    "    Generate group-specific species accumulation curves.\n",
    "    Args:\n",
    "        dt: A DataFrame where rows represent species and columns represent samples.\n",
    "        sample_map: A DataFrame mapping samples to groups.\n",
    "        group: Column name in sample_map specifying groups.\n",
    "        ID: Column name in sample_map specifying sample IDs.\n",
    "        sample_color: List of colors for the groups.\n",
    "        title: Title of the plot.\n",
    "    Returns:\n",
    "        Matplotlib plot object.\n",
    "    \"\"\"\n",
    "    if sample_color is None:\n",
    "        sample_color = sns.color_palette(\"husl\", len(sample_map[group].unique()))\n",
    "    \n",
    "    dt = dt[sample_map[ID]]\n",
    "    results = []\n",
    "\n",
    "    for g in sample_map[group].unique():\n",
    "        group_samples = sample_map[sample_map[group] == g]\n",
    "        group_data = dt[group_samples[ID]]\n",
    "        pan_data = get_pan_data(group_data)\n",
    "        pan_data[group] = g\n",
    "        results.append(pan_data)\n",
    "    \n",
    "    results = pd.concat(results)\n",
    "    \n",
    "    # Plotting\n",
    "    plt.figure(figsize=(10, 6))\n",
    "    sns.lineplot(data=results, x=\"Sites\", y=\"Richness\", hue=group, palette=sample_color, linewidth=2)\n",
    "    for _, sub_df in results.groupby(group):\n",
    "        plt.fill_between(sub_df[\"Sites\"], sub_df[\"Richness\"] - sub_df[\"SD\"], sub_df[\"Richness\"] + sub_df[\"SD\"], alpha=0.2)\n",
    "    \n",
    "    plt.xlabel(\"Number of Samples\")\n",
    "    plt.ylabel(\"Number of Species\")\n",
    "    plt.title(title)\n",
    "    plt.legend(title=group)\n",
    "    plt.grid(False)\n",
    "    plt.show()"
   ]
  },
  {
   "cell_type": "code",
   "execution_count": null,
   "metadata": {
    "vscode": {
     "languageId": "plaintext"
    }
   },
   "outputs": [],
   "source": [
    "def sig_func(p_value):\n",
    "    \"\"\"\n",
    "    Convert p-value to significance level.\n",
    "    \"\"\"\n",
    "    if p_value < 0.001:\n",
    "        return \"***\"\n",
    "    elif p_value < 0.01:\n",
    "        return \"**\"\n",
    "    elif p_value < 0.05:\n",
    "        return \"*\"\n",
    "    else:\n",
    "        return \"ns\""
   ]
  },
  {
   "cell_type": "code",
   "execution_count": null,
   "metadata": {
    "vscode": {
     "languageId": "plaintext"
    }
   },
   "outputs": [],
   "source": [
    "def zy_alpha(dt, sample_map, group=\"Group\", ID=\"Sample\", index=\"shannon\", sample_color=None, \n",
    "             box_width=0.5, title=\"Alpha Diversity\", violin=False):\n",
    "    \"\"\"\n",
    "    Plot alpha diversity boxplots and perform statistical tests.\n",
    "    Args:\n",
    "        dt: A DataFrame where rows represent species and columns represent samples.\n",
    "        sample_map: A DataFrame mapping samples to groups.\n",
    "        group: Column name in sample_map specifying groups.\n",
    "        ID: Column name in sample_map specifying sample IDs.\n",
    "        index: Alpha diversity index to use (e.g., \"shannon\").\n",
    "        sample_color: List of colors for the groups.\n",
    "        box_width: Width of the box plot.\n",
    "        title: Title of the plot.\n",
    "        violin: Whether to include violin plots.\n",
    "    Returns:\n",
    "        Matplotlib plot object.\n",
    "    \"\"\"\n",
    "    if sample_color is None:\n",
    "        sample_color = sns.color_palette(\"husl\", len(sample_map[group].unique()))\n",
    "\n",
    "    # Align data\n",
    "    dt = dt[sample_map[ID]]\n",
    "    dt = dt.loc[~(dt.sum(axis=1) == 0)]\n",
    "    \n",
    "    # Calculate alpha diversity\n",
    "    alpha = dt.apply(lambda row: shannon(row.values), axis=0)\n",
    "    alpha_df = pd.DataFrame({\"alpha\": alpha, ID: alpha.index}).merge(sample_map, on=ID)\n",
    "    \n",
    "    # Pairwise comparisons\n",
    "    comparisons = list(itertools.combinations(alpha_df[group].unique(), 2))\n",
    "    p_values = []\n",
    "    for g1, g2 in comparisons:\n",
    "        group1 = alpha_df[alpha_df[group] == g1][\"alpha\"]\n",
    "        group2 = alpha_df[alpha_df[group] == g2][\"alpha\"]\n",
    "        _, p_value = mannwhitneyu(group1, group2, alternative=\"two-sided\")\n",
    "        p_values.append((g1, g2, sig_func(p_value)))\n",
    "    \n",
    "    # Plotting\n",
    "    plt.figure(figsize=(10, 6))\n",
    "    sns.set_style(\"whitegrid\")\n",
    "    if violin:\n",
    "        sns.violinplot(data=alpha_df, x=group, y=\"alpha\", palette=sample_color, inner=None)\n",
    "    sns.boxplot(data=alpha_df, x=group, y=\"alpha\", width=box_width, palette=sample_color, fliersize=2, linewidth=1.5)\n",
    "    for i, (g1, g2, sig) in enumerate(p_values):\n",
    "        plt.text(i + 0.5, max(alpha_df[\"alpha\"]) * 1.1, sig, ha=\"center\", fontsize=12)\n",
    "    \n",
    "    plt.title(title)\n",
    "    plt.xlabel(\"Group\")\n",
    "    plt.ylabel(\"Alpha Diversity\")\n",
    "    plt.show()"
   ]
  },
  {
   "cell_type": "markdown",
   "metadata": {},
   "source": []
  }
 ],
 "metadata": {
  "language_info": {
   "name": "python"
  }
 },
 "nbformat": 4,
 "nbformat_minor": 2
}
