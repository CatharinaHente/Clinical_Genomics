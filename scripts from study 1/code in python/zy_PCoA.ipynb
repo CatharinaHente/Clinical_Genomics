{
 "cells": [
  {
   "cell_type": "code",
   "execution_count": null,
   "metadata": {
    "vscode": {
     "languageId": "plaintext"
    }
   },
   "outputs": [],
   "source": [
    "import pandas as pd\n",
    "import numpy as np\n",
    "from sklearn.manifold import MDS\n",
    "from sklearn.metrics import pairwise_distances\n",
    "from scipy.spatial.distance import pdist, squareform\n",
    "from statsmodels.stats.anova import AnovaRM\n",
    "from scipy.stats import f_oneway\n",
    "import seaborn as sns\n",
    "import matplotlib.pyplot as plt\n",
    "from matplotlib.patches import Ellipse\n",
    "import matplotlib.transforms as transforms"
   ]
  },
  {
   "cell_type": "code",
   "execution_count": null,
   "metadata": {
    "vscode": {
     "languageId": "plaintext"
    }
   },
   "outputs": [],
   "source": [
    "def zy_pcoa(\n",
    "    dt=None, sample_map=None, group=None, ID=None, sample_color=None,\n",
    "    ado_method=\"bray\", pca_method=\"bray\",\n",
    "    levels=0.95, star_plot=False, ellipse_plot=True,\n",
    "    title=\"PCoA\", x=\"V1\", y=\"V2\"\n",
    "):\n",
    "    # Align profile and grouping sample names\n",
    "    dt = dt.loc[:, sample_map[ID]]\n",
    "\n",
    "    # Define colors if not provided\n",
    "    if sample_color is None:\n",
    "        sample_color = sns.color_palette(\"tab10\", n_colors=len(sample_map[group].unique()))\n",
    "\n",
    "    # Summarize groups for labels\n",
    "    group_summary = sample_map.groupby(group).size().reset_index(name='count')\n",
    "    group_summary['new_label'] = group_summary.apply(lambda row: f\"{row[group]} ({row['count']})\", axis=1)\n",
    "    new_label = dict(zip(group_summary[group], group_summary['new_label']))\n",
    "\n",
    "    # Adonis-like test (One-way ANOVA for simplicity here)\n",
    "    group_values = sample_map[group].unique()\n",
    "    grouped_data = [dt.loc[:, sample_map[sample_map[group] == g][ID]].values.flatten() for g in group_values]\n",
    "    f_stat, ado_p = f_oneway(*grouped_data)\n",
    "    ado_r2 = f_stat / (f_stat + (len(dt.columns) - len(group_values)))\n",
    "\n",
    "    # PCoA (Multidimensional Scaling)\n",
    "    dist_matrix = pairwise_distances(dt.T, metric=ado_method)\n",
    "    mds = MDS(n_components=2, dissimilarity=\"precomputed\", random_state=42)\n",
    "    coords = mds.fit_transform(dist_matrix)\n",
    "\n",
    "    # Variance explained (use eigenvalues approximation)\n",
    "    eigs = mds.stress_ / np.sum(mds.stress_)\n",
    "\n",
    "    # Plot\n",
    "    df_coords = pd.DataFrame(coords, columns=['V1', 'V2'])\n",
    "    df_coords[ID] = dt.columns\n",
    "    df_coords = df_coords.merge(sample_map, on=ID)\n",
    "\n",
    "    plt.figure(figsize=(10, 8))\n",
    "    sns.scatterplot(data=df_coords, x='V1', y='V2', hue=group, palette=sample_color, s=100)\n",
    "    \n",
    "    if ellipse_plot:\n",
    "        for g, data in df_coords.groupby(group):\n",
    "            confidence_ellipse(data['V1'], data['V2'], ax=plt.gca(), n_std=levels,\n",
    "                               edgecolor=sample_color[group_values.tolist().index(g)])\n",
    "\n",
    "    plt.axhline(0, linestyle='--', color='grey', linewidth=0.7)\n",
    "    plt.axvline(0, linestyle='--', color='grey', linewidth=0.7)\n",
    "    plt.title(f\"{title}\\nR2={ado_r2:.4f}\\np-value={ado_p:.4f}\")\n",
    "    plt.xlabel(f\"{x} ({eigs[0]*100:.2f}%)\")\n",
    "    plt.ylabel(f\"{y} ({eigs[1]*100:.2f}%)\")\n",
    "    plt.legend(title=group)\n",
    "    plt.tight_layout()\n",
    "    plt.show()\n",
    "\n",
    "    return {'plot': plt.gca(), 'new_label': new_label}\n",
    "\n",
    "def confidence_ellipse(x, y, ax, n_std=1.0, **kwargs):\n",
    "    \"\"\"\n",
    "    Create a plot of the covariance confidence ellipse of *x* and *y*.\n",
    "    \"\"\"\n",
    "    if x.size != y.size:\n",
    "        raise ValueError(\"x and y must be the same size\")\n",
    "\n",
    "    cov = np.cov(x, y)\n",
    "    pearson = cov[0, 1] / np.sqrt(cov[0, 0] * cov[1, 1])\n",
    "    ellipse_radius_x = np.sqrt(1 + pearson)\n",
    "    ellipse_radius_y = np.sqrt(1 - pearson)\n",
    "    ellipse = Ellipse((0, 0), width=ellipse_radius_x * 2, height=ellipse_radius_y * 2, **kwargs)\n",
    "\n",
    "    scale_x = np.sqrt(cov[0, 0]) * n_std\n",
    "    mean_x = np.mean(x)\n",
    "\n",
    "    scale_y = np.sqrt(cov[1, 1]) * n_std\n",
    "    mean_y = np.mean(y)\n",
    "\n",
    "    transf = transforms.Affine2D() \\\n",
    "        .rotate_deg(45) \\\n",
    "        .scale(scale_x, scale_y) \\\n",
    "        .translate(mean_x, mean_y)\n",
    "\n",
    "    ellipse.set_transform(transf + ax.transData)\n",
    "    ax.add_patch(ellipse)\n",
    "    return ax\n"
   ]
  }
 ],
 "metadata": {
  "language_info": {
   "name": "python"
  }
 },
 "nbformat": 4,
 "nbformat_minor": 2
}
