{
 "cells": [
  {
   "cell_type": "code",
   "execution_count": null,
   "metadata": {
    "vscode": {
     "languageId": "plaintext"
    }
   },
   "outputs": [],
   "source": [
    "import pandas as pd\n",
    "import numpy as np\n",
    "import matplotlib.pyplot as plt\n",
    "from sklearn.metrics import roc_curve, auc, RocCurveDisplay\n",
    "from scipy.stats import bootstrap\n",
    "from typing import List, Union"
   ]
  },
  {
   "cell_type": "code",
   "execution_count": null,
   "metadata": {
    "vscode": {
     "languageId": "plaintext"
    }
   },
   "outputs": [],
   "source": [
    "def map_name(roc_dict):\n",
    "    \"\"\"\n",
    "    Map new names for ROC curves with AUC and confidence intervals.\n",
    "    \n",
    "    Args:\n",
    "        roc_dict (dict): Dictionary of ROC curve data, keyed by group name.\n",
    "    \n",
    "    Returns:\n",
    "        dict: Mapping of old names to new names with AUC and CI.\n",
    "    \"\"\"\n",
    "    name_map = {}\n",
    "    for key, value in roc_dict.items():\n",
    "        auc_ci = value[\"ci_auc\"]\n",
    "        new_name = f\"{key} ({auc_ci[1]:.1f}%) 95% CI: {auc_ci[0]:.1f}%-{auc_ci[2]:.1f}%\"\n",
    "        name_map[key] = new_name\n",
    "    return name_map"
   ]
  },
  {
   "cell_type": "code",
   "execution_count": null,
   "metadata": {
    "vscode": {
     "languageId": "plaintext"
    }
   },
   "outputs": [],
   "source": [
    "def calc_auc(df, pred_col, true_col, group_col=None, acc=False, boot_n=2000):\n",
    "    \"\"\"\n",
    "    Calculate AUC, its confidence interval, and optionally accuracy.\n",
    "    \n",
    "    Args:\n",
    "        df (pd.DataFrame): Dataframe containing predictions and true labels.\n",
    "        pred_col (str): Column name for predictions.\n",
    "        true_col (str): Column name for true labels.\n",
    "        group_col (str): Column name for grouping, if any.\n",
    "        acc (bool): Whether to calculate accuracy.\n",
    "        boot_n (int): Number of bootstrap iterations for CI calculation.\n",
    "    \n",
    "    Returns:\n",
    "        dict: Dictionary containing the result table and ROC curves.\n",
    "    \"\"\"\n",
    "    from sklearn.utils import resample\n",
    "    \n",
    "    roc_dict = {}\n",
    "    if group_col is None:\n",
    "        groups = [\"AUC\"]\n",
    "        df[\"AUC\"] = \"Overall\"\n",
    "    else:\n",
    "        groups = df[group_col].unique()\n",
    "\n",
    "    result_auc = []\n",
    "    for group in groups:\n",
    "        if group_col:\n",
    "            group_df = df[df[group_col] == group]\n",
    "        else:\n",
    "            group_df = df\n",
    "        fpr, tpr, _ = roc_curve(group_df[true_col], group_df[pred_col])\n",
    "        roc_auc = auc(fpr, tpr)\n",
    "\n",
    "        # Bootstrap CI\n",
    "        boot_results = bootstrap(\n",
    "            data=(group_df[true_col].values, group_df[pred_col].values),\n",
    "            statistic=lambda y, y_pred: auc(*roc_curve(y, y_pred)[:2]),\n",
    "            confidence_level=0.95,\n",
    "            n_resamples=boot_n,\n",
    "            method=\"basic\",\n",
    "        )\n",
    "        ci_auc = [boot_results.confidence_interval.low, roc_auc, boot_results.confidence_interval.high]\n",
    "        \n",
    "        roc_dict[group] = {\"fpr\": fpr, \"tpr\": tpr, \"roc_auc\": roc_auc, \"ci_auc\": ci_auc}\n",
    "        \n",
    "        row = {\"group\": group, \"low\": ci_auc[0], \"auc\": ci_auc[1], \"high\": ci_auc[2]}\n",
    "        if acc:\n",
    "            best_idx = np.argmax(tpr - fpr)\n",
    "            accuracy = (tpr[best_idx] + 1 - fpr[best_idx]) / 2\n",
    "            row.update({\"low_acc\": accuracy, \"acc\": accuracy, \"high_acc\": accuracy})\n",
    "        result_auc.append(row)\n",
    "\n",
    "    result_df = pd.DataFrame(result_auc)\n",
    "    return {\"table\": result_df, \"roc_dict\": roc_dict}\n",
    "\n",
    "def plot_roc(df, pred_col, true_col, group_col=None, fill=False, colors=None, boot_n=2000):\n",
    "    \"\"\"\n",
    "    Plot ROC curves with optional confidence intervals.\n",
    "    \n",
    "    Args:\n",
    "        df (pd.DataFrame): Dataframe containing predictions and true labels.\n",
    "        pred_col (str): Column name for predictions.\n",
    "        true_col (str): Column name for true labels.\n",
    "        group_col (str): Column name for grouping, if any.\n",
    "        fill (bool): Whether to show confidence intervals as filled areas.\n",
    "        colors (list or dict): Colors for the ROC curves.\n",
    "        boot_n (int): Number of bootstrap iterations for CI calculation.\n",
    "    \n",
    "    Returns:\n",
    "        dict: Dictionary containing the plot and ROC data.\n",
    "    \"\"\"\n",
    "    roc_data = calc_auc(df, pred_col, true_col, group_col=group_col, boot_n=boot_n)\n",
    "    roc_dict = roc_data[\"roc_dict\"]\n",
    "    name_map = map_name(roc_dict)\n",
    "    \n",
    "    plt.figure(figsize=(8, 6))\n",
    "    for group, data in roc_dict.items():\n",
    "        plt.plot(\n",
    "            data[\"fpr\"], data[\"tpr\"], \n",
    "            label=name_map[group], \n",
    "            color=colors[group] if colors and group in colors else None\n",
    "        )\n",
    "        if fill:\n",
    "            fpr, tpr = data[\"fpr\"], data[\"tpr\"]\n",
    "            auc_ci = data[\"ci_auc\"]\n",
    "            plt.fill_between(\n",
    "                fpr, tpr - auc_ci[0], tpr + auc_ci[2], \n",
    "                color=colors[group] if colors and group in colors else \"gray\", \n",
    "                alpha=0.2\n",
    "            )\n",
    "    \n",
    "    plt.plot([0, 1], [0, 1], \"k--\", label=\"Random\")\n",
    "    plt.xlabel(\"False Positive Rate\")\n",
    "    plt.ylabel(\"True Positive Rate\")\n",
    "    plt.title(\"ROC Curve\")\n",
    "    plt.legend()\n",
    "    plt.grid()\n",
    "    plt.show()\n",
    "    \n",
    "    return {\"plot\": plt, \"roc_data\": roc_dict}\n"
   ]
  }
 ],
 "metadata": {
  "language_info": {
   "name": "python"
  }
 },
 "nbformat": 4,
 "nbformat_minor": 2
}
