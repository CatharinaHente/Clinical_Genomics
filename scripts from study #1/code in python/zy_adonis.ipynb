{
 "cells": [
  {
   "cell_type": "code",
   "execution_count": null,
   "metadata": {
    "vscode": {
     "languageId": "plaintext"
    }
   },
   "outputs": [],
   "source": [
    "import numpy as np\n",
    "import pandas as pd\n",
    "from scipy.spatial.distance import pdist, squareform\n",
    "from skbio.stats.distance import permanova, DistanceMatrix\n",
    "from sklearn.metrics import pairwise_distances\n",
    "from multiprocessing import Pool, cpu_count"
   ]
  },
  {
   "cell_type": "code",
   "execution_count": null,
   "metadata": {
    "vscode": {
     "languageId": "plaintext"
    }
   },
   "outputs": [],
   "source": [
    "def adjusted_r2(r2, n_observations, df_model):\n",
    "    \"\"\"\n",
    "    Calculate the adjusted R-squared value.\n",
    "    \"\"\"\n",
    "    numerator = (1 - r2) * (n_observations - 1)\n",
    "    denominator = n_observations - df_model - 1\n",
    "    return 1 - (numerator / denominator)"
   ]
  },
  {
   "cell_type": "code",
   "execution_count": null,
   "metadata": {
    "vscode": {
     "languageId": "plaintext"
    }
   },
   "outputs": [],
   "source": [
    "def zy_adonis(query, target, method=\"bray\"):\n",
    "    \"\"\"\n",
    "    Perform PERMANOVA (adonis) for each column in `query` against the `target` data.\n",
    "    \"\"\"\n",
    "    results = []\n",
    "\n",
    "    for column in query.columns:\n",
    "        print(f\"Processing column: {column}\")\n",
    "        groups = query[column]\n",
    "\n",
    "        if groups.nunique() <= 1 or groups.nunique() == len(groups):\n",
    "            continue  # Skip if all values are identical or unique\n",
    "\n",
    "        groups = groups.dropna()\n",
    "        valid_indices = groups.index\n",
    "\n",
    "        # Filter target data based on non-NA indices\n",
    "        filtered_target = target[valid_indices]\n",
    "        filtered_groups = groups[valid_indices]\n",
    "\n",
    "        # Compute distance matrix\n",
    "        dist_matrix = pairwise_distances(filtered_target.T, metric=method)\n",
    "        dist_matrix = DistanceMatrix(dist_matrix, ids=filtered_groups.index)\n",
    "\n",
    "        # Perform PERMANOVA\n",
    "        try:\n",
    "            perm_results = permanova(dist_matrix, filtered_groups.values)\n",
    "            r2 = perm_results['pseudo-F'] / (perm_results['pseudo-F'] + len(filtered_groups) - 1)\n",
    "            adjusted_r2_val = adjusted_r2(r2, len(filtered_groups), 1)  # df_model is 1 for one factor\n",
    "            results.append([column, r2, perm_results['p-value'], adjusted_r2_val])\n",
    "        except Exception as e:\n",
    "            print(f\"Error processing column {column}: {e}\")\n",
    "\n",
    "    # Convert results to DataFrame\n",
    "    results_df = pd.DataFrame(results, columns=[\"name\", \"r2\", \"pvalue\", \"adjust.R2\"])\n",
    "    return results_df"
   ]
  },
  {
   "cell_type": "code",
   "execution_count": null,
   "metadata": {
    "vscode": {
     "languageId": "plaintext"
    }
   },
   "outputs": [],
   "source": [
    "def zy_parallel_adonis(query, target, method=\"bray\", n_jobs=None):\n",
    "    \"\"\"\n",
    "    Parallelized version of zy_adonis.\n",
    "    \"\"\"\n",
    "    if n_jobs is None:\n",
    "        n_jobs = cpu_count()  # Use all available CPUs if not specified\n",
    "\n",
    "    def process_column(column):\n",
    "        groups = query[column]\n",
    "\n",
    "        if groups.nunique() <= 1 or groups.nunique() == len(groups):\n",
    "            return None  # Skip if all values are identical or unique\n",
    "\n",
    "        groups = groups.dropna()\n",
    "        valid_indices = groups.index\n",
    "\n",
    "        # Filter target data based on non-NA indices\n",
    "        filtered_target = target[valid_indices]\n",
    "        filtered_groups = groups[valid_indices]\n",
    "\n",
    "        # Compute distance matrix\n",
    "        dist_matrix = pairwise_distances(filtered_target.T, metric=method)\n",
    "        dist_matrix = DistanceMatrix(dist_matrix, ids=filtered_groups.index)\n",
    "\n",
    "        # Perform PERMANOVA\n",
    "        try:\n",
    "            perm_results = permanova(dist_matrix, filtered_groups.values)\n",
    "            r2 = perm_results['pseudo-F'] / (perm_results['pseudo-F'] + len(filtered_groups) - 1)\n",
    "            adjusted_r2_val = adjusted_r2(r2, len(filtered_groups), 1)  # df_model is 1 for one factor\n",
    "            return [column, r2, perm_results['p-value'], adjusted_r2_val]\n",
    "        except Exception as e:\n",
    "            print(f\"Error processing column {column}: {e}\")\n",
    "            return None\n",
    "\n",
    "    with Pool(n_jobs) as pool:\n",
    "        results = pool.map(process_column, query.columns)\n",
    "\n",
    "    # Remove None values and convert to DataFrame\n",
    "    results = [res for res in results if res is not None]\n",
    "    results_df = pd.DataFrame(results, columns=[\"name\", \"r2\", \"pvalue\", \"adjust.R2\"])\n",
    "    return results_df"
   ]
  }
 ],
 "metadata": {
  "language_info": {
   "name": "python"
  }
 },
 "nbformat": 4,
 "nbformat_minor": 2
}
