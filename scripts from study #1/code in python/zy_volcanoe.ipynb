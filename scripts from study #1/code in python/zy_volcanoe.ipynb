{
 "cells": [
  {
   "cell_type": "code",
   "execution_count": null,
   "metadata": {
    "vscode": {
     "languageId": "plaintext"
    }
   },
   "outputs": [],
   "source": [
    "import pandas as pd\n",
    "import numpy as np\n",
    "from scipy.stats import wilcoxon\n",
    "from itertools import combinations"
   ]
  },
  {
   "cell_type": "code",
   "execution_count": null,
   "metadata": {
    "vscode": {
     "languageId": "plaintext"
    }
   },
   "outputs": [],
   "source": [
    "# Function to convert sample map to groups\n",
    "def taxo_sample_to_grps(sample_map, group, ID):\n",
    "    grps = sample_map[group].unique()\n",
    "    grps_list = {}\n",
    "    for grp in grps:\n",
    "        grps_list[grp] = sample_map[sample_map[group] == grp][ID].tolist()\n",
    "    return grps_list"
   ]
  },
  {
   "cell_type": "code",
   "execution_count": null,
   "metadata": {
    "vscode": {
     "languageId": "plaintext"
    }
   },
   "outputs": [],
   "source": [
    "# Function to calculate fold change and p-value for volcano plot\n",
    "def zy_raw_profile_to_volcano(dt, sample_map, group, ID, cutoff=10):\n",
    "    # Subset data based on sample map\n",
    "    dt = dt[sample_map[ID]]\n",
    "    \n",
    "    # Get the groupings from the sample map\n",
    "    grps = taxo_sample_to_grps(sample_map, group, ID)\n",
    "    \n",
    "    # Generate combinations of group pairs\n",
    "    com = list(combinations(grps.keys(), 2))\n",
    "    \n",
    "    nspecies = dt.shape[0]  # Number of species\n",
    "    names = dt.index  # Species names\n",
    "    result = []\n",
    "\n",
    "    # Loop through each species and calculate fold change and p-value\n",
    "    for n in range(nspecies):\n",
    "        temp_dt = dt.iloc[n, :]\n",
    "        for g1, g2 in com:\n",
    "            # Get the data for each group\n",
    "            dt1 = temp_dt[grps[g1]].values\n",
    "            dt2 = temp_dt[grps[g2]].values\n",
    "            \n",
    "            # Calculate means and fold-change\n",
    "            m1 = np.mean(dt1)\n",
    "            m2 = np.mean(dt2)\n",
    "            enrich = g1 if m1 > m2 else g2\n",
    "            fold = max(m1 / m2, m2 / m1)\n",
    "            \n",
    "            # Perform Wilcoxon test\n",
    "            _, p = wilcoxon(dt1, dt2)  # Use Wilcoxon signed-rank test\n",
    "            \n",
    "            # Store the result\n",
    "            result.append([names[n], g1, g2, m1, m2, enrich, fold, p])\n",
    "    \n",
    "    # Convert results to a DataFrame\n",
    "    result_df = pd.DataFrame(result, columns=[\"name\", \"g1\", \"g2\", \"m1\", \"m2\", \"enriched\", \"fold_change\", \"pvalue\"])\n",
    "    \n",
    "    # Convert numeric columns to float\n",
    "    for col in [\"m1\", \"m2\", \"fold_change\", \"pvalue\"]:\n",
    "        result_df[col] = result_df[col].astype(float)\n",
    "    \n",
    "    return result_df"
   ]
  }
 ],
 "metadata": {
  "language_info": {
   "name": "python"
  }
 },
 "nbformat": 4,
 "nbformat_minor": 2
}
