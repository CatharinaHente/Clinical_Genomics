{
 "cells": [
  {
   "cell_type": "code",
   "execution_count": null,
   "metadata": {
    "vscode": {
     "languageId": "plaintext"
    }
   },
   "outputs": [],
   "source": [
    "import pandas as pd\n",
    "import numpy as np"
   ]
  },
  {
   "cell_type": "code",
   "execution_count": null,
   "metadata": {
    "vscode": {
     "languageId": "plaintext"
    }
   },
   "outputs": [],
   "source": [
    "def zy_fill_na_value(in_matrix, cutoff=0.25, del_na=True, fun=np.median):\n",
    "    \"\"\"\n",
    "    Fills NaN values in numeric columns based on a summary statistic (e.g., median)\n",
    "    and optionally removes columns with a high proportion of NaN values.\n",
    "\n",
    "    Args:\n",
    "        in_matrix (pd.DataFrame): Input dataframe.\n",
    "        cutoff (float): Proportion of NaN values above which a column is considered for deletion.\n",
    "        del_na (bool): Whether to delete columns with NaN proportion above the cutoff.\n",
    "        fun (function): Function to calculate the value used for filling NaNs (default: np.median).\n",
    "\n",
    "    Returns:\n",
    "        pd.DataFrame: Processed dataframe with NaN values filled and/or columns removed.\n",
    "    \"\"\"\n",
    "    in_matrix = in_matrix.copy()\n",
    "    total_num = in_matrix.shape[0]\n",
    "    del_count = 0\n",
    "\n",
    "    # Fill NaN values in numeric columns\n",
    "    for col in in_matrix.columns:\n",
    "        if pd.api.types.is_numeric_dtype(in_matrix[col]):\n",
    "            na_num = in_matrix[col].isna().sum()\n",
    "            if na_num / total_num < cutoff:\n",
    "                # Fill NaN with the specified function (e.g., median)\n",
    "                fill_value = fun(in_matrix[col].dropna())\n",
    "                in_matrix[col].fillna(fill_value, inplace=True)\n",
    "            else:\n",
    "                del_count += 1\n",
    "\n",
    "    # Remove columns with excessive NaN values, if requested\n",
    "    if del_na:\n",
    "        del_cols = []\n",
    "        for col in in_matrix.columns:\n",
    "            if pd.api.types.is_numeric_dtype(in_matrix[col]):\n",
    "                if in_matrix[col].isna().all():\n",
    "                    del_cols.append(col)\n",
    "        \n",
    "        if del_cols:\n",
    "            in_matrix.drop(columns=del_cols, inplace=True)\n",
    "        \n",
    "        print(f\"Deleted {len(del_cols)} items with NaN proportion above {cutoff}.\")\n",
    "\n",
    "    return in_matrix"
   ]
  }
 ],
 "metadata": {
  "language_info": {
   "name": "python"
  }
 },
 "nbformat": 4,
 "nbformat_minor": 2
}
