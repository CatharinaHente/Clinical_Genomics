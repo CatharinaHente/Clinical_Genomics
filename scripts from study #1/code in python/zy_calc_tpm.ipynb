{
 "cells": [
  {
   "cell_type": "code",
   "execution_count": null,
   "metadata": {
    "vscode": {
     "languageId": "plaintext"
    }
   },
   "outputs": [],
   "source": [
    "import pandas as pd\n",
    "import numpy as np"
   ]
  },
  {
   "cell_type": "code",
   "execution_count": null,
   "metadata": {
    "vscode": {
     "languageId": "plaintext"
    }
   },
   "outputs": [],
   "source": [
    "def zy_calc_tpm(dt, le, ID=\"name\", le_name=\"length\"):\n",
    "    \"\"\"\n",
    "    Calculate TPM (Transcripts Per Million) for gene expression data.\n",
    "\n",
    "    Args:\n",
    "        dt (pd.DataFrame): DataFrame of read counts (genes as rows, samples as columns).\n",
    "        le (pd.DataFrame): DataFrame with transcript lengths (rows identified by 'ID').\n",
    "        ID (str): Column in `le` that identifies transcript names.\n",
    "        le_name (str): Column in `le` that contains transcript lengths.\n",
    "\n",
    "    Returns:\n",
    "        pd.DataFrame: TPM-normalized data.\n",
    "    \"\"\"\n",
    "    # Ensure that the `le` DataFrame is indexed by transcript IDs\n",
    "    le = le.set_index(ID)\n",
    "\n",
    "    # Align `le` with `dt` rows based on their indices\n",
    "    le = le.loc[dt.index]\n",
    "\n",
    "    # Divide counts by transcript lengths\n",
    "    dt_norm = dt.div(le[le_name], axis=0)\n",
    "\n",
    "    # Calculate column sums and normalize by scaling to 1e6\n",
    "    tpm = dt_norm.div(dt_norm.sum(axis=0), axis=1) * 1e6\n",
    "\n",
    "    return tpm"
   ]
  }
 ],
 "metadata": {
  "language_info": {
   "name": "python"
  }
 },
 "nbformat": 4,
 "nbformat_minor": 2
}
