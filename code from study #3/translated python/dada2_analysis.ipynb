{
 "cells": [
  {
   "cell_type": "code",
   "execution_count": 1,
   "metadata": {},
   "outputs": [
    {
     "ename": "ModuleNotFoundError",
     "evalue": "No module named 'qiime2'",
     "output_type": "error",
     "traceback": [
      "\u001b[0;31m---------------------------------------------------------------------------\u001b[0m",
      "\u001b[0;31mModuleNotFoundError\u001b[0m                       Traceback (most recent call last)",
      "Cell \u001b[0;32mIn[1], line 3\u001b[0m\n\u001b[1;32m      1\u001b[0m \u001b[38;5;28;01mimport\u001b[39;00m \u001b[38;5;21;01mos\u001b[39;00m\n\u001b[1;32m      2\u001b[0m \u001b[38;5;28;01mimport\u001b[39;00m \u001b[38;5;21;01msubprocess\u001b[39;00m\n\u001b[0;32m----> 3\u001b[0m \u001b[38;5;28;01mimport\u001b[39;00m \u001b[38;5;21;01mqiime2\u001b[39;00m\n\u001b[1;32m      4\u001b[0m \u001b[38;5;28;01mfrom\u001b[39;00m \u001b[38;5;21;01mqiime2\u001b[39;00m\u001b[38;5;21;01m.\u001b[39;00m\u001b[38;5;21;01mplugins\u001b[39;00m\u001b[38;5;21;01m.\u001b[39;00m\u001b[38;5;21;01mdada2\u001b[39;00m\u001b[38;5;21;01m.\u001b[39;00m\u001b[38;5;21;01mmethods\u001b[39;00m \u001b[38;5;28;01mimport\u001b[39;00m denoise_paired\n\u001b[1;32m      5\u001b[0m \u001b[38;5;28;01mfrom\u001b[39;00m \u001b[38;5;21;01mqiime2\u001b[39;00m\u001b[38;5;21;01m.\u001b[39;00m\u001b[38;5;21;01mplugins\u001b[39;00m\u001b[38;5;21;01m.\u001b[39;00m\u001b[38;5;21;01mfeature_table\u001b[39;00m\u001b[38;5;21;01m.\u001b[39;00m\u001b[38;5;21;01mmethods\u001b[39;00m \u001b[38;5;28;01mimport\u001b[39;00m merge\n",
      "\u001b[0;31mModuleNotFoundError\u001b[0m: No module named 'qiime2'"
     ]
    }
   ],
   "source": [
    "import os\n",
    "import subprocess\n",
    "import qiime2\n",
    "from qiime2.plugins.dada2.methods import denoise_paired\n",
    "from qiime2.plugins.feature_table.methods import merge\n",
    "from qiime2.plugins.feature_classifier.methods import classify_sklearn\n",
    "\n",
    "# Set up paths for the input and output directories\n",
    "input_path = '/FASTQ/demultiplexed_run_DI18R24/'\n",
    "filtered_path = os.path.join(input_path, 'filtered')\n",
    "os.makedirs(filtered_path, exist_ok=True)\n",
    "\n",
    "# Set seed for reproducibility\n",
    "np.random.seed(531)\n",
    "\n",
    "# List all the FASTQ files and separate forward/reverse reads\n",
    "fastq_files = sorted([f for f in os.listdir(input_path) if f.endswith('.fq.gz')])\n",
    "fnFs = [f for f in fastq_files if '.1.fq.gz' in f]\n",
    "fnRs = [f for f in fastq_files if '.2.fq.gz' in f]\n",
    "sample_names = [os.path.splitext(f)[0].split('.1')[0] for f in fnFs]\n",
    "\n",
    "# Prepare file paths for filtered outputs\n",
    "filtFs = [os.path.join(filtered_path, f\"{sample}_F_filt.fastq.gz\") for sample in sample_names]\n",
    "filtRs = [os.path.join(filtered_path, f\"{sample}_R_filt.fastq.gz\") for sample in sample_names]\n",
    "\n",
    "# Quality filtering and trimming with DADA2 through QIIME 2\n",
    "# Parameters similar to filterAndTrim in DADA2\n",
    "denoise_results = denoise_paired(\n",
    "    demultiplexed_seqs=input_path,\n",
    "    trunc_len_f=130,\n",
    "    trunc_len_r=200,\n",
    "    trim_left_f=30,\n",
    "    trim_left_r=30,\n",
    "    max_ee=(2, 2),\n",
    "    trunc_q=11,\n",
    "    chimera_method=\"consensus\",\n",
    "    n_threads=0\n",
    ")\n",
    "\n",
    "# Filter out samples with fewer than 50 reads\n",
    "df_out = denoise_results.table.view(pd.DataFrame)\n",
    "filtered_samples = df_out[df_out['read_count'] > 50]\n",
    "filtered_sample_names = filtered_samples.index.tolist()\n",
    "\n",
    "# Error model building and dereplication\n",
    "# This step is integrated into the `denoise_paired` function in QIIME 2 DADA2 plugin.\n",
    "\n",
    "# Save individual sequence tables for each sequencing run\n",
    "denoise_results.table.save(\"DI18R24_seqtab.qza\")\n",
    "\n",
    "# Additional sequencing runs\n",
    "# Repeat the above denoise_paired steps for each sequencing run\n",
    "# Save each run’s table with different filenames, e.g., DI18R36_seqtab.qza, etc.\n",
    "\n",
    "# Merging sequence tables across runs\n",
    "seqtab_paths = [\"DI18R24_seqtab.qza\", \"DI18R36_seqtab.qza\", \"DI18R37_seqtab.qza\", \n",
    "                \"DI19R04_seqtab.qza\", \"DI19R05_seqtab.qza\", \"DI19R06_seqtab.qza\"]\n",
    "seqtables = [qiime2.Artifact.load(path) for path in seqtab_paths]\n",
    "merged_seqtab = merge(*seqtables)\n",
    "merged_seqtab.table.save(\"seqtab_all.qza\")\n",
    "\n",
    "# Chimera removal (already done if using chimera_method=\"consensus\" in `denoise_paired`)\n",
    "# Save sequence table without chimeras\n",
    "merged_seqtab_no_chimeras = denoise_results.table\n",
    "merged_seqtab_no_chimeras.save(\"seqtab_all_no_chimeras.qza\")\n",
    "\n",
    "# Taxonomic assignment using a pre-trained SILVA classifier in QIIME 2\n",
    "classifier = qiime2.Artifact.load(\"silva_nr99_v138_1_classifier.qza\")\n",
    "taxonomic_results = classify_sklearn(reads=merged_seqtab_no_chimeras, classifier=classifier)\n",
    "taxonomic_results.classification.save(\"seqtab_all_no_chimeras_tax_SLV138.1.qza\")\n",
    "\n",
    "# Export sequence table and taxonomy to view results\n",
    "subprocess.run([\"qiime\", \"tools\", \"export\", \"--input-path\", \"seqtab_all_no_chimeras_tax_SLV138.1.qza\", \"--output-path\", \"exported_taxonomy\"])\n",
    "\n",
    "# Convert exported taxonomy and table into readable format (optional)\n",
    "# qiime2 metadata tabulate -- Can help view table as a metadata file\n",
    "subprocess.run([\"qiime\", \"tools\", \"view\", \"exported_taxonomy/taxonomy.tsv\"])\n"
   ]
  },
  {
   "cell_type": "code",
   "execution_count": null,
   "metadata": {},
   "outputs": [],
   "source": []
  }
 ],
 "metadata": {
  "kernelspec": {
   "display_name": "base",
   "language": "python",
   "name": "python3"
  },
  "language_info": {
   "codemirror_mode": {
    "name": "ipython",
    "version": 3
   },
   "file_extension": ".py",
   "mimetype": "text/x-python",
   "name": "python",
   "nbconvert_exporter": "python",
   "pygments_lexer": "ipython3",
   "version": "3.11.5"
  }
 },
 "nbformat": 4,
 "nbformat_minor": 2
}
