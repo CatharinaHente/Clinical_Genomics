{
 "cells": [
  {
   "cell_type": "code",
   "execution_count": 1,
   "metadata": {},
   "outputs": [
    {
     "ename": "FileNotFoundError",
     "evalue": "[Errno 2] No such file or directory: 'p5_NPT.QMP_138_species'",
     "output_type": "error",
     "traceback": [
      "\u001b[0;31m---------------------------------------------------------------------------\u001b[0m",
      "\u001b[0;31mFileNotFoundError\u001b[0m                         Traceback (most recent call last)",
      "Cell \u001b[0;32mIn[1], line 11\u001b[0m\n\u001b[1;32m      8\u001b[0m np\u001b[38;5;241m.\u001b[39mrandom\u001b[38;5;241m.\u001b[39mseed(\u001b[38;5;241m531\u001b[39m)\n\u001b[1;32m     10\u001b[0m \u001b[38;5;66;03m# Load data\u001b[39;00m\n\u001b[0;32m---> 11\u001b[0m \u001b[38;5;28;01mwith\u001b[39;00m \u001b[38;5;28mopen\u001b[39m(\u001b[38;5;124m\"\u001b[39m\u001b[38;5;124mp5_NPT.QMP_138_species\u001b[39m\u001b[38;5;124m\"\u001b[39m, \u001b[38;5;124m\"\u001b[39m\u001b[38;5;124mrb\u001b[39m\u001b[38;5;124m\"\u001b[39m) \u001b[38;5;28;01mas\u001b[39;00m f:\n\u001b[1;32m     12\u001b[0m     p5_NPT_QMP_138_species \u001b[38;5;241m=\u001b[39m pickle\u001b[38;5;241m.\u001b[39mload(f)\n\u001b[1;32m     14\u001b[0m \u001b[38;5;28;01mwith\u001b[39;00m \u001b[38;5;28mopen\u001b[39m(\u001b[38;5;124m\"\u001b[39m\u001b[38;5;124mp5_NPT.RMP_138_species\u001b[39m\u001b[38;5;124m\"\u001b[39m, \u001b[38;5;124m\"\u001b[39m\u001b[38;5;124mrb\u001b[39m\u001b[38;5;124m\"\u001b[39m) \u001b[38;5;28;01mas\u001b[39;00m f:\n",
      "File \u001b[0;32m~/anaconda3/lib/python3.11/site-packages/IPython/core/interactiveshell.py:286\u001b[0m, in \u001b[0;36m_modified_open\u001b[0;34m(file, *args, **kwargs)\u001b[0m\n\u001b[1;32m    279\u001b[0m \u001b[38;5;28;01mif\u001b[39;00m file \u001b[38;5;129;01min\u001b[39;00m {\u001b[38;5;241m0\u001b[39m, \u001b[38;5;241m1\u001b[39m, \u001b[38;5;241m2\u001b[39m}:\n\u001b[1;32m    280\u001b[0m     \u001b[38;5;28;01mraise\u001b[39;00m \u001b[38;5;167;01mValueError\u001b[39;00m(\n\u001b[1;32m    281\u001b[0m         \u001b[38;5;124mf\u001b[39m\u001b[38;5;124m\"\u001b[39m\u001b[38;5;124mIPython won\u001b[39m\u001b[38;5;124m'\u001b[39m\u001b[38;5;124mt let you open fd=\u001b[39m\u001b[38;5;132;01m{\u001b[39;00mfile\u001b[38;5;132;01m}\u001b[39;00m\u001b[38;5;124m by default \u001b[39m\u001b[38;5;124m\"\u001b[39m\n\u001b[1;32m    282\u001b[0m         \u001b[38;5;124m\"\u001b[39m\u001b[38;5;124mas it is likely to crash IPython. If you know what you are doing, \u001b[39m\u001b[38;5;124m\"\u001b[39m\n\u001b[1;32m    283\u001b[0m         \u001b[38;5;124m\"\u001b[39m\u001b[38;5;124myou can use builtins\u001b[39m\u001b[38;5;124m'\u001b[39m\u001b[38;5;124m open.\u001b[39m\u001b[38;5;124m\"\u001b[39m\n\u001b[1;32m    284\u001b[0m     )\n\u001b[0;32m--> 286\u001b[0m \u001b[38;5;28;01mreturn\u001b[39;00m io_open(file, \u001b[38;5;241m*\u001b[39margs, \u001b[38;5;241m*\u001b[39m\u001b[38;5;241m*\u001b[39mkwargs)\n",
      "\u001b[0;31mFileNotFoundError\u001b[0m: [Errno 2] No such file or directory: 'p5_NPT.QMP_138_species'"
     ]
    }
   ],
   "source": [
    "import numpy as np\n",
    "import pandas as pd\n",
    "import pickle\n",
    "from scipy.stats import spearmanr\n",
    "from statsmodels.stats.multitest import multipletests\n",
    "\n",
    "# Set seed for reproducibility\n",
    "np.random.seed(531)\n",
    "\n",
    "# Load data\n",
    "with open(\"p5_NPT.QMP_138_species\", \"rb\") as f:\n",
    "    p5_NPT_QMP_138_species = pickle.load(f)\n",
    "\n",
    "with open(\"p5_NPT.RMP_138_species\", \"rb\") as f:\n",
    "    p5_NPT_RMP_138_species = pickle.load(f)\n",
    "\n",
    "# Function to perform correlation analysis\n",
    "def perform_correlation_analysis(data, covariates):\n",
    "    # Extract relevant covariate and species data\n",
    "    CMB_df = data[covariates]\n",
    "    species = data.drop(columns=covariates)\n",
    "\n",
    "    # Initialize lists to store correlation and p-values\n",
    "    correlations, p_values = [], []\n",
    "\n",
    "    # Perform Spearman correlation between each covariate and each species\n",
    "    for covariate in CMB_df.columns:\n",
    "        for species_col in species.columns:\n",
    "            corr, pval = spearmanr(CMB_df[covariate], species[species_col], nan_policy='omit')\n",
    "            correlations.append((covariate, species_col, corr, pval))\n",
    "\n",
    "    # Convert to DataFrame\n",
    "    corr_df = pd.DataFrame(correlations, columns=[\"Covariate\", \"Species\", \"Correlation\", \"P\"])\n",
    "\n",
    "    # Adjust p-values using Benjamini-Hochberg method\n",
    "    p_values = corr_df[\"P\"].values\n",
    "    _, adj_p_values, _, _ = multipletests(p_values, method='fdr_bh')\n",
    "    corr_df[\"Adjusted P\"] = adj_p_values\n",
    "\n",
    "    return corr_df.head()\n",
    "\n",
    "# Perform correlation analysis for QMP species\n",
    "QMP_species_corr_adjP = perform_correlation_analysis(p5_NPT_QMP_138_species, [\"Calprotectin\", \"Moisture\", \"BMI\"])\n",
    "print(QMP_species_corr_adjP)\n",
    "\n",
    "# Perform correlation analysis for RMP species\n",
    "RMP_species_corr_adjP = perform_correlation_analysis(p5_NPT_RMP_138_species, [\"Calprotectin\", \"Moisture\", \"BMI\"])\n",
    "print(RMP_species_corr_adjP)\n"
   ]
  },
  {
   "cell_type": "code",
   "execution_count": null,
   "metadata": {},
   "outputs": [],
   "source": []
  }
 ],
 "metadata": {
  "kernelspec": {
   "display_name": "base",
   "language": "python",
   "name": "python3"
  },
  "language_info": {
   "codemirror_mode": {
    "name": "ipython",
    "version": 3
   },
   "file_extension": ".py",
   "mimetype": "text/x-python",
   "name": "python",
   "nbconvert_exporter": "python",
   "pygments_lexer": "ipython3",
   "version": "3.11.5"
  }
 },
 "nbformat": 4,
 "nbformat_minor": 2
}
