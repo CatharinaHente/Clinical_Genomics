{
 "cells": [
  {
   "cell_type": "code",
   "execution_count": 1,
   "metadata": {},
   "outputs": [
    {
     "ename": "ModuleNotFoundError",
     "evalue": "No module named 'skbio'",
     "output_type": "error",
     "traceback": [
      "\u001b[0;31m---------------------------------------------------------------------------\u001b[0m",
      "\u001b[0;31mModuleNotFoundError\u001b[0m                       Traceback (most recent call last)",
      "Cell \u001b[0;32mIn[1], line 3\u001b[0m\n\u001b[1;32m      1\u001b[0m \u001b[38;5;28;01mimport\u001b[39;00m \u001b[38;5;21;01mpandas\u001b[39;00m \u001b[38;5;28;01mas\u001b[39;00m \u001b[38;5;21;01mpd\u001b[39;00m\n\u001b[1;32m      2\u001b[0m \u001b[38;5;28;01mimport\u001b[39;00m \u001b[38;5;21;01mnumpy\u001b[39;00m \u001b[38;5;28;01mas\u001b[39;00m \u001b[38;5;21;01mnp\u001b[39;00m\n\u001b[0;32m----> 3\u001b[0m \u001b[38;5;28;01mfrom\u001b[39;00m \u001b[38;5;21;01mskbio\u001b[39;00m\u001b[38;5;21;01m.\u001b[39;00m\u001b[38;5;21;01mstats\u001b[39;00m\u001b[38;5;21;01m.\u001b[39;00m\u001b[38;5;21;01mcomposition\u001b[39;00m \u001b[38;5;28;01mimport\u001b[39;00m clr, multiplicative_replacement\n\u001b[1;32m      4\u001b[0m \u001b[38;5;28;01mfrom\u001b[39;00m \u001b[38;5;21;01mskbio\u001b[39;00m\u001b[38;5;21;01m.\u001b[39;00m\u001b[38;5;21;01mstats\u001b[39;00m\u001b[38;5;21;01m.\u001b[39;00m\u001b[38;5;21;01mordination\u001b[39;00m \u001b[38;5;28;01mimport\u001b[39;00m pcoa\n\u001b[1;32m      5\u001b[0m \u001b[38;5;28;01mimport\u001b[39;00m \u001b[38;5;21;01mmatplotlib\u001b[39;00m\u001b[38;5;21;01m.\u001b[39;00m\u001b[38;5;21;01mpyplot\u001b[39;00m \u001b[38;5;28;01mas\u001b[39;00m \u001b[38;5;21;01mplt\u001b[39;00m\n",
      "\u001b[0;31mModuleNotFoundError\u001b[0m: No module named 'skbio'"
     ]
    }
   ],
   "source": [
    "import pandas as pd\n",
    "import numpy as np\n",
    "from skbio.stats.composition import clr, multiplicative_replacement\n",
    "from skbio.stats.ordination import pcoa\n",
    "import matplotlib.pyplot as plt\n",
    "import seaborn as sns\n",
    "\n",
    "# Set a random seed for reproducibility\n",
    "np.random.seed(531)\n",
    "\n",
    "# Load the microbiome data object (assuming it’s loaded as a DataFrame)\n",
    "# Replace 'load_data_function' with the actual function to load your data\n",
    "RMP_ASV_LCPM_SLV_species = load_data_function(\"RMP_ASV_LCPM_SLV_species.pkl\")\n",
    "\n",
    "# Check and adjust taxonomic names if necessary\n",
    "RMP_ASV_LCPM_SLV_species.columns = RMP_ASV_LCPM_SLV_species.columns.str.replace(\"-\", \".\")\n",
    "\n",
    "# Create a working copy of the data\n",
    "Obj = RMP_ASV_LCPM_SLV_species.copy()\n",
    "\n",
    "# Set filtering parameters\n",
    "min_reads = 10000\n",
    "min_prop = 0.001\n",
    "cutoff = 0\n",
    "\n",
    "# Convert the species table and apply filtering\n",
    "matrix = Obj.values\n",
    "sample_sums = matrix.sum(axis=0)\n",
    "matrix = matrix[:, sample_sums >= min_reads]\n",
    "matrix = matrix[(matrix >= min_prop).sum(axis=1) > cutoff, :]\n",
    "\n",
    "# Function to estimate zeros (similar to R's estimate0.min function)\n",
    "def estimate_zeros(matrix):\n",
    "    matrix_p = matrix / matrix.sum(axis=0)  # proportionate normalization\n",
    "    matrix_filled = matrix.copy()\n",
    "    for i in range(matrix.shape[0]):\n",
    "        non_zero_min = matrix_p[i, matrix_p[i, :] > 0].min()\n",
    "        matrix_filled[i, matrix[i, :] == 0] = non_zero_min * sample_sums\n",
    "    return matrix_filled\n",
    "\n",
    "# Apply zero estimation and perform CLR transformation\n",
    "matrix_filled = estimate_zeros(matrix)\n",
    "matrix_clr = clr(multiplicative_replacement(matrix_filled.T)).T  # CLR transformation\n",
    "\n",
    "# Plot histogram of row sums after CLR transformation\n",
    "plt.hist(matrix_clr.sum(axis=1))\n",
    "plt.title(\"Row Sums after CLR Transformation\")\n",
    "plt.show()\n",
    "\n",
    "######### Create CLR-transformed phyloseq object #########\n",
    "\n",
    "# Assuming you have metadata and taxonomy data as DataFrames\n",
    "sample_metadata = Obj.sample_metadata\n",
    "sample_metadata[\"Diagnosis\"] = sample_metadata[\"CRC_general_status\"]\n",
    "\n",
    "# PCoA Ordination\n",
    "ordination = pcoa(matrix_clr)\n",
    "ordination_df = ordination.samples\n",
    "ordination_df['Diagnosis'] = sample_metadata['Diagnosis'].values\n",
    "\n",
    "# Plot PCoA with Diagnosis as color\n",
    "sns.set(style=\"whitegrid\")\n",
    "pcoa_plot = sns.scatterplot(\n",
    "    x=ordination_df['PC1'], y=ordination_df['PC2'],\n",
    "    hue=ordination_df['Diagnosis'],\n",
    "    palette=[\"#1B9E77\", \"#D95F02\", \"#7570B3\"]\n",
    ")\n",
    "pcoa_plot.legend(loc='upper right')\n",
    "plt.title(\"PCoA Ordination with CLR Transformation\")\n",
    "plt.xlabel(\"PC1\")\n",
    "plt.ylabel(\"PC2\")\n",
    "plt.show()\n"
   ]
  }
 ],
 "metadata": {
  "kernelspec": {
   "display_name": "base",
   "language": "python",
   "name": "python3"
  },
  "language_info": {
   "codemirror_mode": {
    "name": "ipython",
    "version": 3
   },
   "file_extension": ".py",
   "mimetype": "text/x-python",
   "name": "python",
   "nbconvert_exporter": "python",
   "pygments_lexer": "ipython3",
   "version": "3.11.5"
  }
 },
 "nbformat": 4,
 "nbformat_minor": 2
}
