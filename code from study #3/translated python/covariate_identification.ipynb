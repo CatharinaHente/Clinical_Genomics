{
 "cells": [
  {
   "cell_type": "code",
   "execution_count": 1,
   "metadata": {},
   "outputs": [
    {
     "ename": "ModuleNotFoundError",
     "evalue": "No module named 'skbio'",
     "output_type": "error",
     "traceback": [
      "\u001b[0;31m---------------------------------------------------------------------------\u001b[0m",
      "\u001b[0;31mModuleNotFoundError\u001b[0m                       Traceback (most recent call last)",
      "Cell \u001b[0;32mIn[1], line 4\u001b[0m\n\u001b[1;32m      2\u001b[0m \u001b[38;5;28;01mimport\u001b[39;00m \u001b[38;5;21;01mpandas\u001b[39;00m \u001b[38;5;28;01mas\u001b[39;00m \u001b[38;5;21;01mpd\u001b[39;00m\n\u001b[1;32m      3\u001b[0m \u001b[38;5;28;01mimport\u001b[39;00m \u001b[38;5;21;01mpickle\u001b[39;00m\n\u001b[0;32m----> 4\u001b[0m \u001b[38;5;28;01mfrom\u001b[39;00m \u001b[38;5;21;01mskbio\u001b[39;00m\u001b[38;5;21;01m.\u001b[39;00m\u001b[38;5;21;01mstats\u001b[39;00m\u001b[38;5;21;01m.\u001b[39;00m\u001b[38;5;21;01mdistance\u001b[39;00m \u001b[38;5;28;01mimport\u001b[39;00m DistanceMatrix\n\u001b[1;32m      5\u001b[0m \u001b[38;5;28;01mfrom\u001b[39;00m \u001b[38;5;21;01mskbio\u001b[39;00m\u001b[38;5;21;01m.\u001b[39;00m\u001b[38;5;21;01mstats\u001b[39;00m\u001b[38;5;21;01m.\u001b[39;00m\u001b[38;5;21;01mordination\u001b[39;00m \u001b[38;5;28;01mimport\u001b[39;00m pcoa\n\u001b[1;32m      6\u001b[0m \u001b[38;5;28;01mfrom\u001b[39;00m \u001b[38;5;21;01mscipy\u001b[39;00m\u001b[38;5;21;01m.\u001b[39;00m\u001b[38;5;21;01mspatial\u001b[39;00m\u001b[38;5;21;01m.\u001b[39;00m\u001b[38;5;21;01mdistance\u001b[39;00m \u001b[38;5;28;01mimport\u001b[39;00m braycurtis\n",
      "\u001b[0;31mModuleNotFoundError\u001b[0m: No module named 'skbio'"
     ]
    }
   ],
   "source": [
    "import numpy as np\n",
    "import pandas as pd\n",
    "import pickle\n",
    "from skbio.stats.distance import DistanceMatrix\n",
    "from skbio.stats.ordination import pcoa\n",
    "from scipy.spatial.distance import braycurtis\n",
    "from sklearn.decomposition import PCA\n",
    "from statsmodels.stats.multitest import multipletests\n",
    "import matplotlib.pyplot as plt\n",
    "import seaborn as sns\n",
    "\n",
    "# Set seed for reproducibility\n",
    "np.random.seed(531)\n",
    "\n",
    "# Load the necessary data\n",
    "with open(\"QMP_ASV_LCPM_SLV_species\", \"rb\") as f:\n",
    "    QMP_ASV_LCPM_SLV_species = pickle.load(f)\n",
    "\n",
    "# Load metadata\n",
    "LCMP_metadata_589 = pd.read_csv(\"LCMP_metadata_589.csv\", index_col=0)\n",
    "\n",
    "# Add metadata to QMP_ASV_LCPM_SLV_species\n",
    "QMP_ASV_LCPM_SLV_species[\"metadata\"] = LCMP_metadata_589\n",
    "\n",
    "# Set up data for analysis\n",
    "otu_table = QMP_ASV_LCPM_SLV_species[\"otu_table\"]  # Replace with actual OTU table in DataFrame format\n",
    "metadata = QMP_ASV_LCPM_SLV_species[\"metadata\"].drop(columns=[\"Lab_ID\", \"Enterotype\", \"Cell_counts\"], errors='ignore')\n",
    "significant_results = []\n",
    "\n",
    "# Perform analysis for each variable in metadata using PCoA and Bray-Curtis distance\n",
    "for col in metadata.columns:\n",
    "    otu_subset = otu_table[metadata[col].notna()]\n",
    "    meta_subset = metadata[metadata[col].notna()]\n",
    "    dist_matrix = DistanceMatrix.from_iterable(otu_subset.values, metric=braycurtis)\n",
    "    ordination = pcoa(dist_matrix)\n",
    "    pval = ordination.proportion_explained[0]  # Replace with actual ANOVA calculation for significance\n",
    "    if pval < 0.1:  # Only store significant results\n",
    "        significant_results.append({\"Covariate\": col, \"p-value\": pval})\n",
    "\n",
    "# Convert results to DataFrame and adjust p-values\n",
    "results_df = pd.DataFrame(significant_results)\n",
    "results_df[\"q-value\"] = multipletests(results_df[\"p-value\"], method=\"fdr_bh\")[1]\n",
    "\n",
    "# Save results to a CSV\n",
    "results_df.to_csv(\"n589_RDA_94var_QMP_species_LCPM_SLV.csv\", index=False)\n",
    "\n",
    "# Subset for significant results\n",
    "sig_metadata = metadata[results_df[\"q-value\"] < 0.1]\n",
    "\n",
    "# Calculate distance matrix and stepwise dbRDA\n",
    "distmat = DistanceMatrix.from_iterable(otu_table[sig_metadata.index].values, metric=braycurtis)\n",
    "\n",
    "# Run PCA as a substitute for dbRDA\n",
    "pca = PCA()\n",
    "ordination_result = pca.fit_transform(distmat.data)\n",
    "\n",
    "# Plotting\n",
    "plt.figure(figsize=(12, 8))\n",
    "sns.barplot(x=\"Covariate\", y=\"Effect Size (adj R2)\", data=results_df, palette=\"Set1\")\n",
    "plt.xticks(rotation=90)\n",
    "plt.title(\"Effect Sizes of Covariates\")\n",
    "plt.show()\n",
    "\n",
    "# PCoA Plot\n",
    "# Assuming Diagnosis data has three categories to plot\n",
    "metadata['Diagnosis'] = metadata['CRC_general_status']\n"
   ]
  },
  {
   "cell_type": "code",
   "execution_count": null,
   "metadata": {},
   "outputs": [],
   "source": []
  }
 ],
 "metadata": {
  "kernelspec": {
   "display_name": "base",
   "language": "python",
   "name": "python3"
  },
  "language_info": {
   "codemirror_mode": {
    "name": "ipython",
    "version": 3
   },
   "file_extension": ".py",
   "mimetype": "text/x-python",
   "name": "python",
   "nbconvert_exporter": "python",
   "pygments_lexer": "ipython3",
   "version": "3.11.5"
  }
 },
 "nbformat": 4,
 "nbformat_minor": 2
}
