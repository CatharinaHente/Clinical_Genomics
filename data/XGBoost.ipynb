{
 "cells": [
  {
   "cell_type": "code",
   "execution_count": 2,
   "metadata": {},
   "outputs": [],
   "source": [
    "import pandas as pd"
   ]
  },
  {
   "cell_type": "code",
   "execution_count": null,
   "metadata": {},
   "outputs": [
    {
     "name": "stdout",
     "output_type": "stream",
     "text": [
      "                     name    850945    907005    907544    907995    910252  \\\n",
      "0           c__Clostridia  51.07453  19.25384  34.13202  40.45823  63.65824   \n",
      "1          c__Bacteroidia  42.97830  67.00596  26.10095  49.82172  26.47992   \n",
      "2        c__Negativicutes   2.08592   2.70182   0.41849   2.10271   3.52240   \n",
      "3  c__Gammaproteobacteria   1.28249   9.25834  36.41831   0.00000   0.42619   \n",
      "4   c__Betaproteobacteria   0.93501   0.95815   0.00000   3.79642   0.46030   \n",
      "\n",
      "     917369    920071     A0002     A0005  ...  self_CRC23  self_CRC24  \\\n",
      "0  43.67910  48.12092  43.68023   6.24566  ...    53.93475    34.40354   \n",
      "1  44.99695  30.36404  50.71171  88.15693  ...    26.12067     7.49449   \n",
      "2   2.13157   8.24484   0.47678   0.81488  ...     6.59048     1.46674   \n",
      "3   5.68301   0.00579   0.00000   0.20769  ...     1.93735     0.20606   \n",
      "4   0.93574   1.52207   0.34718   1.96452  ...     0.04980     0.08714   \n",
      "\n",
      "   self_CRC26  self_CRC28  self_CRC30  self_CRC31  self_CRC34  self_CRC35  \\\n",
      "0    28.36411    76.94355    22.11881    48.55523    23.39465    47.10629   \n",
      "1    41.39094    11.59345     0.00000    23.72413    37.40127    40.39927   \n",
      "2     7.05298     1.13617    15.88186     3.76489     1.03932     1.21714   \n",
      "3     0.00000     4.46728    31.77966     5.16120    15.39485     0.24941   \n",
      "4     0.01843     0.01605     0.00000     0.07380     0.04935     0.00000   \n",
      "\n",
      "   self_CRC36  self_CRC37  \n",
      "0    47.91039    21.10904  \n",
      "1    34.96431    71.05358  \n",
      "2     0.95754     1.46976  \n",
      "3     0.13445     1.04201  \n",
      "4     0.73767     0.05691  \n",
      "\n",
      "[5 rows x 8627 columns]\n",
      "              0        1        2        3       4                       5   \\\n",
      "0         Sample    Group  Group_1  Group_2  LevelB                  LevelA   \n",
      "1     SRR8845307  Disease  Disease  Disease      BL       metabolic disease   \n",
      "2     SRR8845454  Disease  Disease  Disease      BL       metabolic disease   \n",
      "3     SRR8845471  Disease  Disease  Disease      BL       metabolic disease   \n",
      "4     SRR8845360  Disease  Disease  Disease      BL       metabolic disease   \n",
      "...          ...      ...      ...      ...     ...                     ...   \n",
      "6612  ERR2759378  Disease  Disease  Disease      AF  cardiovascular disease   \n",
      "6613  ERR2759385  Disease  Disease  Disease      AF  cardiovascular disease   \n",
      "6614  ERR2759424  Disease  Disease  Disease      AF  cardiovascular disease   \n",
      "6615  ERR2759392  Disease  Disease  Disease      AF  cardiovascular disease   \n",
      "6616  ERR2759394  Disease  Disease  Disease      AF  cardiovascular disease   \n",
      "\n",
      "                6              7           8          9   ...  \\\n",
      "0            group        Project   Project_1  Project_2  ...   \n",
      "1              low  WangQ_2021.BL  WangQ_2021   Discover  ...   \n",
      "2     osteoporosis  WangQ_2021.BL  WangQ_2021   Discover  ...   \n",
      "3     osteoporosis  WangQ_2021.BL  WangQ_2021   Discover  ...   \n",
      "4              low  WangQ_2021.BL  WangQ_2021   Discover  ...   \n",
      "...            ...            ...         ...        ...  ...   \n",
      "6612            AF   ZuoK_2019.AF   ZuoK_2019   Discover  ...   \n",
      "6613            AF   ZuoK_2019.AF   ZuoK_2019   Discover  ...   \n",
      "6614            AF   ZuoK_2019.AF   ZuoK_2019   Discover  ...   \n",
      "6615            AF   ZuoK_2019.AF   ZuoK_2019   Discover  ...   \n",
      "6616            AF   ZuoK_2019.AF   ZuoK_2019   Discover  ...   \n",
      "\n",
      "                           11       12                       13    14      15  \\\n",
      "0                     LevelA3  LevelA4                  LevelA5   Age  Gender   \n",
      "1     cardiometabolic disease       BL  cardiometabolic disease  55.3  Female   \n",
      "2     cardiometabolic disease       BL  cardiometabolic disease  66.4  Female   \n",
      "3     cardiometabolic disease       BL  cardiometabolic disease  60.4  Female   \n",
      "4     cardiometabolic disease       BL  cardiometabolic disease  61.9  Female   \n",
      "...                       ...      ...                      ...   ...     ...   \n",
      "6612  cardiometabolic disease       AF  cardiometabolic disease   NaN     NaN   \n",
      "6613  cardiometabolic disease       AF  cardiometabolic disease   NaN     NaN   \n",
      "6614  cardiometabolic disease       AF  cardiometabolic disease   NaN     NaN   \n",
      "6615  cardiometabolic disease       AF  cardiometabolic disease   NaN     NaN   \n",
      "6616  cardiometabolic disease       AF  cardiometabolic disease   NaN     NaN   \n",
      "\n",
      "               16          17                    18                     19  \\\n",
      "0             BMI  Location_1              Location          sequence_type   \n",
      "1     15.81685744    Shenzhen  Shenzhen (Guangdong)             BGISEQ-500   \n",
      "2     16.84746877    Shenzhen  Shenzhen (Guangdong)             BGISEQ-500   \n",
      "3     17.51463112    Shenzhen  Shenzhen (Guangdong)             BGISEQ-500   \n",
      "4     17.66929652    Shenzhen  Shenzhen (Guangdong)             BGISEQ-500   \n",
      "...           ...         ...                   ...                    ...   \n",
      "6612          NaN     Beijing               Beijing  Illumina NovaSeq 6000   \n",
      "6613          NaN     Beijing               Beijing  Illumina NovaSeq 6000   \n",
      "6614          NaN     Beijing               Beijing  Illumina NovaSeq 6000   \n",
      "6615          NaN     Beijing               Beijing  Illumina NovaSeq 6000   \n",
      "6616          NaN     Beijing               Beijing  Illumina NovaSeq 6000   \n",
      "\n",
      "                    20  \n",
      "0     DNA_extract_type  \n",
      "1            QinJ_2012  \n",
      "2            QinJ_2012  \n",
      "3            QinJ_2012  \n",
      "4            QinJ_2012  \n",
      "...                ...  \n",
      "6612        TIAGEN kit  \n",
      "6613        TIAGEN kit  \n",
      "6614        TIAGEN kit  \n",
      "6615        TIAGEN kit  \n",
      "6616        TIAGEN kit  \n",
      "\n",
      "[6617 rows x 21 columns]\n",
      "<class 'pandas.core.frame.DataFrame'>\n",
      "RangeIndex: 6617 entries, 0 to 6616\n",
      "Data columns (total 21 columns):\n",
      " #   Column  Non-Null Count  Dtype \n",
      "---  ------  --------------  ----- \n",
      " 0   0       6617 non-null   object\n",
      " 1   1       6617 non-null   object\n",
      " 2   2       6617 non-null   object\n",
      " 3   3       6617 non-null   object\n",
      " 4   4       6617 non-null   object\n",
      " 5   5       6617 non-null   object\n",
      " 6   6       6617 non-null   object\n",
      " 7   7       6617 non-null   object\n",
      " 8   8       6617 non-null   object\n",
      " 9   9       6617 non-null   object\n",
      " 10  10      6617 non-null   object\n",
      " 11  11      6617 non-null   object\n",
      " 12  12      6617 non-null   object\n",
      " 13  13      6617 non-null   object\n",
      " 14  14      3686 non-null   object\n",
      " 15  15      3789 non-null   object\n",
      " 16  16      2887 non-null   object\n",
      " 17  17      6617 non-null   object\n",
      " 18  18      6617 non-null   object\n",
      " 19  19      6617 non-null   object\n",
      " 20  20      6515 non-null   object\n",
      "dtypes: object(21)\n",
      "memory usage: 1.1+ MB\n",
      "None\n"
     ]
    }
   ],
   "source": [
    "# format change taxonomic data (from .group to .csv) \n",
    "# for now only mpa4_class.profile is considered\n",
    "taxonomy_df = pd.read_csv(\"data/mpa4_class.profile\", sep=\"\\t\")\n",
    "print(taxonomy_df.head())\n",
    "\n",
    "# format change metadata (from .group to .csv)\n",
    "metadata_df = pd.read_csv(\"data/sample.group\", sep=\"\\t\", header=None)\n",
    "print(metadata_df)\n",
    "print(metadata_df.info())"
   ]
  },
  {
   "cell_type": "code",
   "execution_count": 4,
   "metadata": {},
   "outputs": [
    {
     "name": "stdout",
     "output_type": "stream",
     "text": [
      "                     Taxa    850945    907005    907544    907995    910252  \\\n",
      "0           c__Clostridia  51.07453  19.25384  34.13202  40.45823  63.65824   \n",
      "1          c__Bacteroidia  42.97830  67.00596  26.10095  49.82172  26.47992   \n",
      "2        c__Negativicutes   2.08592   2.70182   0.41849   2.10271   3.52240   \n",
      "3  c__Gammaproteobacteria   1.28249   9.25834  36.41831   0.00000   0.42619   \n",
      "4   c__Betaproteobacteria   0.93501   0.95815   0.00000   3.79642   0.46030   \n",
      "\n",
      "     917369    920071     A0002     A0005  ...  self_CRC23  self_CRC24  \\\n",
      "0  43.67910  48.12092  43.68023   6.24566  ...    53.93475    34.40354   \n",
      "1  44.99695  30.36404  50.71171  88.15693  ...    26.12067     7.49449   \n",
      "2   2.13157   8.24484   0.47678   0.81488  ...     6.59048     1.46674   \n",
      "3   5.68301   0.00579   0.00000   0.20769  ...     1.93735     0.20606   \n",
      "4   0.93574   1.52207   0.34718   1.96452  ...     0.04980     0.08714   \n",
      "\n",
      "   self_CRC26  self_CRC28  self_CRC30  self_CRC31  self_CRC34  self_CRC35  \\\n",
      "0    28.36411    76.94355    22.11881    48.55523    23.39465    47.10629   \n",
      "1    41.39094    11.59345     0.00000    23.72413    37.40127    40.39927   \n",
      "2     7.05298     1.13617    15.88186     3.76489     1.03932     1.21714   \n",
      "3     0.00000     4.46728    31.77966     5.16120    15.39485     0.24941   \n",
      "4     0.01843     0.01605     0.00000     0.07380     0.04935     0.00000   \n",
      "\n",
      "   self_CRC36  self_CRC37  \n",
      "0    47.91039    21.10904  \n",
      "1    34.96431    71.05358  \n",
      "2     0.95754     1.46976  \n",
      "3     0.13445     1.04201  \n",
      "4     0.73767     0.05691  \n",
      "\n",
      "[5 rows x 8627 columns]\n"
     ]
    },
    {
     "ename": "ValueError",
     "evalue": "Length mismatch: Expected axis has 21 elements, new values have 20 elements",
     "output_type": "error",
     "traceback": [
      "\u001b[0;31m---------------------------------------------------------------------------\u001b[0m",
      "\u001b[0;31mValueError\u001b[0m                                Traceback (most recent call last)",
      "Cell \u001b[0;32mIn[4], line 6\u001b[0m\n\u001b[1;32m      3\u001b[0m taxonomy_df\u001b[38;5;241m.\u001b[39mrename(columns\u001b[38;5;241m=\u001b[39m{taxonomy_df\u001b[38;5;241m.\u001b[39mcolumns[\u001b[38;5;241m0\u001b[39m]: \u001b[38;5;124m\"\u001b[39m\u001b[38;5;124mTaxa\u001b[39m\u001b[38;5;124m\"\u001b[39m}, inplace\u001b[38;5;241m=\u001b[39m\u001b[38;5;28;01mTrue\u001b[39;00m)\n\u001b[1;32m      4\u001b[0m \u001b[38;5;28mprint\u001b[39m(taxonomy_df\u001b[38;5;241m.\u001b[39mhead())\n\u001b[0;32m----> 6\u001b[0m \u001b[43mmetadata_df\u001b[49m\u001b[38;5;241;43m.\u001b[39;49m\u001b[43mcolumns\u001b[49m \u001b[38;5;241m=\u001b[39m [\n\u001b[1;32m      7\u001b[0m     \u001b[38;5;124m\"\u001b[39m\u001b[38;5;124mSampleID\u001b[39m\u001b[38;5;124m\"\u001b[39m, \u001b[38;5;124m\"\u001b[39m\u001b[38;5;124mGroup\u001b[39m\u001b[38;5;124m\"\u001b[39m, \u001b[38;5;124m\"\u001b[39m\u001b[38;5;124mGroup_1\u001b[39m\u001b[38;5;124m\"\u001b[39m, \u001b[38;5;124m\"\u001b[39m\u001b[38;5;124mGroup_2\u001b[39m\u001b[38;5;124m\"\u001b[39m, \u001b[38;5;124m\"\u001b[39m\u001b[38;5;124mLevelB\u001b[39m\u001b[38;5;124m\"\u001b[39m, \u001b[38;5;124m\"\u001b[39m\u001b[38;5;124mLevelA\u001b[39m\u001b[38;5;124m\"\u001b[39m,\n\u001b[1;32m      8\u001b[0m     \u001b[38;5;124m\"\u001b[39m\u001b[38;5;124mGroupDetails\u001b[39m\u001b[38;5;124m\"\u001b[39m, \u001b[38;5;124m\"\u001b[39m\u001b[38;5;124mProject\u001b[39m\u001b[38;5;124m\"\u001b[39m, \u001b[38;5;124m\"\u001b[39m\u001b[38;5;124mProject_1\u001b[39m\u001b[38;5;124m\"\u001b[39m, \u001b[38;5;124m\"\u001b[39m\u001b[38;5;124mProject_2\u001b[39m\u001b[38;5;124m\"\u001b[39m, \u001b[38;5;124m\"\u001b[39m\u001b[38;5;124mUnused_1\u001b[39m\u001b[38;5;124m\"\u001b[39m,\n\u001b[1;32m      9\u001b[0m     \u001b[38;5;124m\"\u001b[39m\u001b[38;5;124mUnused_2\u001b[39m\u001b[38;5;124m\"\u001b[39m, \u001b[38;5;124m\"\u001b[39m\u001b[38;5;124mUnused_3\u001b[39m\u001b[38;5;124m\"\u001b[39m, \u001b[38;5;124m\"\u001b[39m\u001b[38;5;124mAge\u001b[39m\u001b[38;5;124m\"\u001b[39m, \u001b[38;5;124m\"\u001b[39m\u001b[38;5;124mGender\u001b[39m\u001b[38;5;124m\"\u001b[39m, \u001b[38;5;124m\"\u001b[39m\u001b[38;5;124mBMI\u001b[39m\u001b[38;5;124m\"\u001b[39m, \u001b[38;5;124m\"\u001b[39m\u001b[38;5;124mLocation\u001b[39m\u001b[38;5;124m\"\u001b[39m,\n\u001b[1;32m     10\u001b[0m     \u001b[38;5;124m\"\u001b[39m\u001b[38;5;124mLocationDetails\u001b[39m\u001b[38;5;124m\"\u001b[39m, \u001b[38;5;124m\"\u001b[39m\u001b[38;5;124mSequenceType\u001b[39m\u001b[38;5;124m\"\u001b[39m, \u001b[38;5;124m\"\u001b[39m\u001b[38;5;124mDNAExtractType\u001b[39m\u001b[38;5;124m\"\u001b[39m\n\u001b[1;32m     11\u001b[0m ]\n\u001b[1;32m     12\u001b[0m \u001b[38;5;28mprint\u001b[39m(metadata_df\u001b[38;5;241m.\u001b[39mhead())\n\u001b[1;32m     14\u001b[0m \u001b[38;5;66;03m# verify match\u001b[39;00m\n",
      "File \u001b[0;32m~/.local/lib/python3.12/site-packages/pandas/core/generic.py:6313\u001b[0m, in \u001b[0;36mNDFrame.__setattr__\u001b[0;34m(self, name, value)\u001b[0m\n\u001b[1;32m   6311\u001b[0m \u001b[38;5;28;01mtry\u001b[39;00m:\n\u001b[1;32m   6312\u001b[0m     \u001b[38;5;28mobject\u001b[39m\u001b[38;5;241m.\u001b[39m\u001b[38;5;21m__getattribute__\u001b[39m(\u001b[38;5;28mself\u001b[39m, name)\n\u001b[0;32m-> 6313\u001b[0m     \u001b[38;5;28;01mreturn\u001b[39;00m \u001b[38;5;28;43mobject\u001b[39;49m\u001b[38;5;241;43m.\u001b[39;49m\u001b[38;5;21;43m__setattr__\u001b[39;49m\u001b[43m(\u001b[49m\u001b[38;5;28;43mself\u001b[39;49m\u001b[43m,\u001b[49m\u001b[43m \u001b[49m\u001b[43mname\u001b[49m\u001b[43m,\u001b[49m\u001b[43m \u001b[49m\u001b[43mvalue\u001b[49m\u001b[43m)\u001b[49m\n\u001b[1;32m   6314\u001b[0m \u001b[38;5;28;01mexcept\u001b[39;00m \u001b[38;5;167;01mAttributeError\u001b[39;00m:\n\u001b[1;32m   6315\u001b[0m     \u001b[38;5;28;01mpass\u001b[39;00m\n",
      "File \u001b[0;32mproperties.pyx:69\u001b[0m, in \u001b[0;36mpandas._libs.properties.AxisProperty.__set__\u001b[0;34m()\u001b[0m\n",
      "File \u001b[0;32m~/.local/lib/python3.12/site-packages/pandas/core/generic.py:814\u001b[0m, in \u001b[0;36mNDFrame._set_axis\u001b[0;34m(self, axis, labels)\u001b[0m\n\u001b[1;32m    809\u001b[0m \u001b[38;5;250m\u001b[39m\u001b[38;5;124;03m\"\"\"\u001b[39;00m\n\u001b[1;32m    810\u001b[0m \u001b[38;5;124;03mThis is called from the cython code when we set the `index` attribute\u001b[39;00m\n\u001b[1;32m    811\u001b[0m \u001b[38;5;124;03mdirectly, e.g. `series.index = [1, 2, 3]`.\u001b[39;00m\n\u001b[1;32m    812\u001b[0m \u001b[38;5;124;03m\"\"\"\u001b[39;00m\n\u001b[1;32m    813\u001b[0m labels \u001b[38;5;241m=\u001b[39m ensure_index(labels)\n\u001b[0;32m--> 814\u001b[0m \u001b[38;5;28;43mself\u001b[39;49m\u001b[38;5;241;43m.\u001b[39;49m\u001b[43m_mgr\u001b[49m\u001b[38;5;241;43m.\u001b[39;49m\u001b[43mset_axis\u001b[49m\u001b[43m(\u001b[49m\u001b[43maxis\u001b[49m\u001b[43m,\u001b[49m\u001b[43m \u001b[49m\u001b[43mlabels\u001b[49m\u001b[43m)\u001b[49m\n\u001b[1;32m    815\u001b[0m \u001b[38;5;28mself\u001b[39m\u001b[38;5;241m.\u001b[39m_clear_item_cache()\n",
      "File \u001b[0;32m~/.local/lib/python3.12/site-packages/pandas/core/internals/managers.py:238\u001b[0m, in \u001b[0;36mBaseBlockManager.set_axis\u001b[0;34m(self, axis, new_labels)\u001b[0m\n\u001b[1;32m    236\u001b[0m \u001b[38;5;28;01mdef\u001b[39;00m \u001b[38;5;21mset_axis\u001b[39m(\u001b[38;5;28mself\u001b[39m, axis: AxisInt, new_labels: Index) \u001b[38;5;241m-\u001b[39m\u001b[38;5;241m>\u001b[39m \u001b[38;5;28;01mNone\u001b[39;00m:\n\u001b[1;32m    237\u001b[0m     \u001b[38;5;66;03m# Caller is responsible for ensuring we have an Index object.\u001b[39;00m\n\u001b[0;32m--> 238\u001b[0m     \u001b[38;5;28;43mself\u001b[39;49m\u001b[38;5;241;43m.\u001b[39;49m\u001b[43m_validate_set_axis\u001b[49m\u001b[43m(\u001b[49m\u001b[43maxis\u001b[49m\u001b[43m,\u001b[49m\u001b[43m \u001b[49m\u001b[43mnew_labels\u001b[49m\u001b[43m)\u001b[49m\n\u001b[1;32m    239\u001b[0m     \u001b[38;5;28mself\u001b[39m\u001b[38;5;241m.\u001b[39maxes[axis] \u001b[38;5;241m=\u001b[39m new_labels\n",
      "File \u001b[0;32m~/.local/lib/python3.12/site-packages/pandas/core/internals/base.py:98\u001b[0m, in \u001b[0;36mDataManager._validate_set_axis\u001b[0;34m(self, axis, new_labels)\u001b[0m\n\u001b[1;32m     95\u001b[0m     \u001b[38;5;28;01mpass\u001b[39;00m\n\u001b[1;32m     97\u001b[0m \u001b[38;5;28;01melif\u001b[39;00m new_len \u001b[38;5;241m!=\u001b[39m old_len:\n\u001b[0;32m---> 98\u001b[0m     \u001b[38;5;28;01mraise\u001b[39;00m \u001b[38;5;167;01mValueError\u001b[39;00m(\n\u001b[1;32m     99\u001b[0m         \u001b[38;5;124mf\u001b[39m\u001b[38;5;124m\"\u001b[39m\u001b[38;5;124mLength mismatch: Expected axis has \u001b[39m\u001b[38;5;132;01m{\u001b[39;00mold_len\u001b[38;5;132;01m}\u001b[39;00m\u001b[38;5;124m elements, new \u001b[39m\u001b[38;5;124m\"\u001b[39m\n\u001b[1;32m    100\u001b[0m         \u001b[38;5;124mf\u001b[39m\u001b[38;5;124m\"\u001b[39m\u001b[38;5;124mvalues have \u001b[39m\u001b[38;5;132;01m{\u001b[39;00mnew_len\u001b[38;5;132;01m}\u001b[39;00m\u001b[38;5;124m elements\u001b[39m\u001b[38;5;124m\"\u001b[39m\n\u001b[1;32m    101\u001b[0m     )\n",
      "\u001b[0;31mValueError\u001b[0m: Length mismatch: Expected axis has 21 elements, new values have 20 elements"
     ]
    }
   ],
   "source": [
    "# rename and match metadata and taxonomic data for merging\n",
    "\n",
    "taxonomy_df.rename(columns={taxonomy_df.columns[0]: \"Taxa\"}, inplace=True)\n",
    "print(taxonomy_df.head())\n",
    "\n",
    "metadata_df.columns = [\n",
    "    \"SampleID\", \"Group\", \"Group_1\", \"Group_2\", \"LevelB\", \"LevelA\",\n",
    "    \"GroupDetails\", \"Project\", \"Project_1\", \"Project_2\", \"Unused_1\",\n",
    "    \"Unused_2\", \"Unused_3\", \"Age\", \"Gender\", \"BMI\", \"Location\",\n",
    "    \"LocationDetails\", \"SequenceType\", \"DNAExtractType\"\n",
    "]\n",
    "print(metadata_df.head())\n",
    "\n",
    "# verify match\n",
    "print(set(taxonomy_df.columns[1:]).difference(metadata_df[\"SampleID\"]))"
   ]
  },
  {
   "cell_type": "code",
   "execution_count": 8,
   "metadata": {},
   "outputs": [
    {
     "name": "stdout",
     "output_type": "stream",
     "text": [
      "Collecting xgboost\n",
      "  Downloading xgboost-2.1.3-py3-none-manylinux_2_28_x86_64.whl.metadata (2.1 kB)\n",
      "Requirement already satisfied: numpy in /home/codespace/.local/lib/python3.12/site-packages (from xgboost) (2.2.0)\n",
      "Collecting nvidia-nccl-cu12 (from xgboost)\n",
      "  Downloading nvidia_nccl_cu12-2.23.4-py3-none-manylinux2014_x86_64.whl.metadata (1.8 kB)\n",
      "Requirement already satisfied: scipy in /home/codespace/.local/lib/python3.12/site-packages (from xgboost) (1.14.1)\n",
      "Downloading xgboost-2.1.3-py3-none-manylinux_2_28_x86_64.whl (153.9 MB)\n",
      "\u001b[2K   \u001b[90m━━━━━━━━━━━━━━━━━━━━━━━━━━━━━━━━━━━━━━━━\u001b[0m \u001b[32m153.9/153.9 MB\u001b[0m \u001b[31m59.8 MB/s\u001b[0m eta \u001b[36m0:00:00\u001b[0m00:01\u001b[0m00:01\u001b[0m\n",
      "\u001b[?25hDownloading nvidia_nccl_cu12-2.23.4-py3-none-manylinux2014_x86_64.whl (199.0 MB)\n",
      "\u001b[2K   \u001b[90m━━━━━━━━━━━━━━━━━━━━━━━━━━━━━━━━━━━━━━━━\u001b[0m \u001b[32m199.0/199.0 MB\u001b[0m \u001b[31m58.1 MB/s\u001b[0m eta \u001b[36m0:00:00\u001b[0m00:01\u001b[0m00:01\u001b[0m\n",
      "\u001b[?25hInstalling collected packages: nvidia-nccl-cu12, xgboost\n",
      "Successfully installed nvidia-nccl-cu12-2.23.4 xgboost-2.1.3\n"
     ]
    }
   ],
   "source": [
    "# installing xgboost\n",
    "!pip install xgboost"
   ]
  },
  {
   "cell_type": "code",
   "execution_count": 27,
   "metadata": {},
   "outputs": [
    {
     "name": "stdout",
     "output_type": "stream",
     "text": [
      "                     name    850945    907005    907544    907995    910252  \\\n",
      "0           c__Clostridia  51.07453  19.25384  34.13202  40.45823  63.65824   \n",
      "1          c__Bacteroidia  42.97830  67.00596  26.10095  49.82172  26.47992   \n",
      "2        c__Negativicutes   2.08592   2.70182   0.41849   2.10271   3.52240   \n",
      "3  c__Gammaproteobacteria   1.28249   9.25834  36.41831   0.00000   0.42619   \n",
      "4   c__Betaproteobacteria   0.93501   0.95815   0.00000   3.79642   0.46030   \n",
      "\n",
      "     917369    920071     A0002     A0005  ...  self_CRC23  self_CRC24  \\\n",
      "0  43.67910  48.12092  43.68023   6.24566  ...    53.93475    34.40354   \n",
      "1  44.99695  30.36404  50.71171  88.15693  ...    26.12067     7.49449   \n",
      "2   2.13157   8.24484   0.47678   0.81488  ...     6.59048     1.46674   \n",
      "3   5.68301   0.00579   0.00000   0.20769  ...     1.93735     0.20606   \n",
      "4   0.93574   1.52207   0.34718   1.96452  ...     0.04980     0.08714   \n",
      "\n",
      "   self_CRC26  self_CRC28  self_CRC30  self_CRC31  self_CRC34  self_CRC35  \\\n",
      "0    28.36411    76.94355    22.11881    48.55523    23.39465    47.10629   \n",
      "1    41.39094    11.59345     0.00000    23.72413    37.40127    40.39927   \n",
      "2     7.05298     1.13617    15.88186     3.76489     1.03932     1.21714   \n",
      "3     0.00000     4.46728    31.77966     5.16120    15.39485     0.24941   \n",
      "4     0.01843     0.01605     0.00000     0.07380     0.04935     0.00000   \n",
      "\n",
      "   self_CRC36  self_CRC37  \n",
      "0    47.91039    21.10904  \n",
      "1    34.96431    71.05358  \n",
      "2     0.95754     1.46976  \n",
      "3     0.13445     1.04201  \n",
      "4     0.73767     0.05691  \n",
      "\n",
      "[5 rows x 8627 columns]\n"
     ]
    }
   ],
   "source": [
    "# attempt to set up XGBoost without linking taxonomic data and metadata\n",
    "import xgboost as xgb\n",
    "import pandas as pd\n",
    "import numpy as np\n",
    "from sklearn.model_selection import train_test_split\n",
    "from sklearn.metrics import accuracy_score, classification_report\n",
    "\n",
    "# Load the taxonomic dataset (mpa4_class.profile)\n",
    "data = pd.read_csv(\"data/mpa4_class.profile\", sep=\"\\t\")\n",
    "\n",
    "data.index = data.index.astype(str)\n",
    "\n",
    "# Transpose the dataset to have samples as rows and features as columns\n",
    "data_transposed = data.set_index('name').transpose()\n",
    "print(data.head())"
   ]
  },
  {
   "cell_type": "code",
   "execution_count": null,
   "metadata": {},
   "outputs": [
    {
     "ename": "AttributeError",
     "evalue": "Can only use .str accessor with string values!",
     "output_type": "error",
     "traceback": [
      "\u001b[0;31m---------------------------------------------------------------------------\u001b[0m",
      "\u001b[0;31mAttributeError\u001b[0m                            Traceback (most recent call last)",
      "Cell \u001b[0;32mIn[36], line 2\u001b[0m\n\u001b[1;32m      1\u001b[0m \u001b[38;5;66;03m# Extract labels (y) - ensure you replace 'label_column' with your actual label column\u001b[39;00m\n\u001b[0;32m----> 2\u001b[0m labels \u001b[38;5;241m=\u001b[39m \u001b[43mdata\u001b[49m\u001b[38;5;241;43m.\u001b[39;49m\u001b[43mindex\u001b[49m\u001b[38;5;241;43m.\u001b[39;49m\u001b[43mstr\u001b[49m\u001b[38;5;241m.\u001b[39mcontains(\u001b[38;5;124m'\u001b[39m\u001b[38;5;124mself_CRC\u001b[39m\u001b[38;5;124m'\u001b[39m) \n\u001b[1;32m      3\u001b[0m y \u001b[38;5;241m=\u001b[39m labels\u001b[38;5;241m.\u001b[39mastype(\u001b[38;5;28mint\u001b[39m)  \u001b[38;5;66;03m# Convert boolean to integer (1 for CRC, 0 for others)\u001b[39;00m\n\u001b[1;32m      5\u001b[0m \u001b[38;5;66;03m# Drop the index to form the feature matrix (X)\u001b[39;00m\n",
      "File \u001b[0;32m~/.local/lib/python3.12/site-packages/pandas/core/accessor.py:224\u001b[0m, in \u001b[0;36mCachedAccessor.__get__\u001b[0;34m(self, obj, cls)\u001b[0m\n\u001b[1;32m    221\u001b[0m \u001b[38;5;28;01mif\u001b[39;00m obj \u001b[38;5;129;01mis\u001b[39;00m \u001b[38;5;28;01mNone\u001b[39;00m:\n\u001b[1;32m    222\u001b[0m     \u001b[38;5;66;03m# we're accessing the attribute of the class, i.e., Dataset.geo\u001b[39;00m\n\u001b[1;32m    223\u001b[0m     \u001b[38;5;28;01mreturn\u001b[39;00m \u001b[38;5;28mself\u001b[39m\u001b[38;5;241m.\u001b[39m_accessor\n\u001b[0;32m--> 224\u001b[0m accessor_obj \u001b[38;5;241m=\u001b[39m \u001b[38;5;28;43mself\u001b[39;49m\u001b[38;5;241;43m.\u001b[39;49m\u001b[43m_accessor\u001b[49m\u001b[43m(\u001b[49m\u001b[43mobj\u001b[49m\u001b[43m)\u001b[49m\n\u001b[1;32m    225\u001b[0m \u001b[38;5;66;03m# Replace the property with the accessor object. Inspired by:\u001b[39;00m\n\u001b[1;32m    226\u001b[0m \u001b[38;5;66;03m# https://www.pydanny.com/cached-property.html\u001b[39;00m\n\u001b[1;32m    227\u001b[0m \u001b[38;5;66;03m# We need to use object.__setattr__ because we overwrite __setattr__ on\u001b[39;00m\n\u001b[1;32m    228\u001b[0m \u001b[38;5;66;03m# NDFrame\u001b[39;00m\n\u001b[1;32m    229\u001b[0m \u001b[38;5;28mobject\u001b[39m\u001b[38;5;241m.\u001b[39m\u001b[38;5;21m__setattr__\u001b[39m(obj, \u001b[38;5;28mself\u001b[39m\u001b[38;5;241m.\u001b[39m_name, accessor_obj)\n",
      "File \u001b[0;32m~/.local/lib/python3.12/site-packages/pandas/core/strings/accessor.py:191\u001b[0m, in \u001b[0;36mStringMethods.__init__\u001b[0;34m(self, data)\u001b[0m\n\u001b[1;32m    188\u001b[0m \u001b[38;5;28;01mdef\u001b[39;00m \u001b[38;5;21m__init__\u001b[39m(\u001b[38;5;28mself\u001b[39m, data) \u001b[38;5;241m-\u001b[39m\u001b[38;5;241m>\u001b[39m \u001b[38;5;28;01mNone\u001b[39;00m:\n\u001b[1;32m    189\u001b[0m     \u001b[38;5;28;01mfrom\u001b[39;00m \u001b[38;5;21;01mpandas\u001b[39;00m\u001b[38;5;21;01m.\u001b[39;00m\u001b[38;5;21;01mcore\u001b[39;00m\u001b[38;5;21;01m.\u001b[39;00m\u001b[38;5;21;01marrays\u001b[39;00m\u001b[38;5;21;01m.\u001b[39;00m\u001b[38;5;21;01mstring_\u001b[39;00m \u001b[38;5;28;01mimport\u001b[39;00m StringDtype\n\u001b[0;32m--> 191\u001b[0m     \u001b[38;5;28mself\u001b[39m\u001b[38;5;241m.\u001b[39m_inferred_dtype \u001b[38;5;241m=\u001b[39m \u001b[38;5;28;43mself\u001b[39;49m\u001b[38;5;241;43m.\u001b[39;49m\u001b[43m_validate\u001b[49m\u001b[43m(\u001b[49m\u001b[43mdata\u001b[49m\u001b[43m)\u001b[49m\n\u001b[1;32m    192\u001b[0m     \u001b[38;5;28mself\u001b[39m\u001b[38;5;241m.\u001b[39m_is_categorical \u001b[38;5;241m=\u001b[39m \u001b[38;5;28misinstance\u001b[39m(data\u001b[38;5;241m.\u001b[39mdtype, CategoricalDtype)\n\u001b[1;32m    193\u001b[0m     \u001b[38;5;28mself\u001b[39m\u001b[38;5;241m.\u001b[39m_is_string \u001b[38;5;241m=\u001b[39m \u001b[38;5;28misinstance\u001b[39m(data\u001b[38;5;241m.\u001b[39mdtype, StringDtype)\n",
      "File \u001b[0;32m~/.local/lib/python3.12/site-packages/pandas/core/strings/accessor.py:245\u001b[0m, in \u001b[0;36mStringMethods._validate\u001b[0;34m(data)\u001b[0m\n\u001b[1;32m    242\u001b[0m inferred_dtype \u001b[38;5;241m=\u001b[39m lib\u001b[38;5;241m.\u001b[39minfer_dtype(values, skipna\u001b[38;5;241m=\u001b[39m\u001b[38;5;28;01mTrue\u001b[39;00m)\n\u001b[1;32m    244\u001b[0m \u001b[38;5;28;01mif\u001b[39;00m inferred_dtype \u001b[38;5;129;01mnot\u001b[39;00m \u001b[38;5;129;01min\u001b[39;00m allowed_types:\n\u001b[0;32m--> 245\u001b[0m     \u001b[38;5;28;01mraise\u001b[39;00m \u001b[38;5;167;01mAttributeError\u001b[39;00m(\u001b[38;5;124m\"\u001b[39m\u001b[38;5;124mCan only use .str accessor with string values!\u001b[39m\u001b[38;5;124m\"\u001b[39m)\n\u001b[1;32m    246\u001b[0m \u001b[38;5;28;01mreturn\u001b[39;00m inferred_dtype\n",
      "\u001b[0;31mAttributeError\u001b[0m: Can only use .str accessor with string values!"
     ]
    }
   ],
   "source": [
    "\n",
    "# Extract labels (y) - ensure you replace 'label_column' with your actual label column\n",
    "labels = data.index.str.contains('self_CRC') \n",
    "y = labels.astype(int)  # Convert boolean to integer (1 for CRC, 0 for others)\n",
    "\n",
    "# Drop the index to form the feature matrix (X)\n",
    "X = data.reset_index(drop=True)\n",
    "display(X)"
   ]
  },
  {
   "cell_type": "code",
   "execution_count": 35,
   "metadata": {},
   "outputs": [
    {
     "name": "stdout",
     "output_type": "stream",
     "text": [
      "Train size: (148, 8626), Test size: (37, 8626)\n"
     ]
    }
   ],
   "source": [
    "X = pd.get_dummies(X, drop_first=True)\n",
    "# Split data into training and testing sets\n",
    "X_train, X_test, y_train, y_test = train_test_split(X, y, test_size=0.2, random_state=42, stratify=y)\n",
    "print(f\"Train size: {X_train.shape}, Test size: {X_test.shape}\")\n",
    "\n",
    "# Convert to DMatrix format\n",
    "dtrain = xgb.DMatrix(X_train, label=y_train)\n",
    "dtest = xgb.DMatrix(X_test, label=y_test)\n",
    "\n",
    "# Set XGBoost parameters\n",
    "params = {\n",
    "    'objective': 'binary:logistic',  # Binary classification\n",
    "    'eval_metric': 'logloss',       # Evaluation metric\n",
    "    'max_depth': 6,                 # Maximum depth of trees\n",
    "    'eta': 0.1,                     # Learning rate\n",
    "    'verbosity': 1,                 # Verbosity level\n",
    "    'seed': 42                      # Random seed for reproducibility\n",
    "}\n",
    "\n",
    "# Train the XGBoost model\n",
    "num_round = 100\n",
    "bst = xgb.train(params, dtrain, num_round)\n",
    "\n",
    "# Predict on the test set\n",
    "y_pred_prob = bst.predict(dtest)\n",
    "y_pred = (y_pred_prob > 0.5).astype(int)  # Convert probabilities to binary predictions"
   ]
  },
  {
   "cell_type": "code",
   "execution_count": 30,
   "metadata": {},
   "outputs": [
    {
     "name": "stdout",
     "output_type": "stream",
     "text": [
      "Accuracy: 1.00\n",
      "Classification Report:\n",
      "              precision    recall  f1-score   support\n",
      "\n",
      "           0       1.00      1.00      1.00      1721\n",
      "           1       0.00      0.00      0.00         5\n",
      "\n",
      "    accuracy                           1.00      1726\n",
      "   macro avg       0.50      0.50      0.50      1726\n",
      "weighted avg       0.99      1.00      1.00      1726\n",
      "\n"
     ]
    },
    {
     "name": "stderr",
     "output_type": "stream",
     "text": [
      "/home/codespace/.local/lib/python3.12/site-packages/sklearn/metrics/_classification.py:1565: UndefinedMetricWarning: Precision is ill-defined and being set to 0.0 in labels with no predicted samples. Use `zero_division` parameter to control this behavior.\n",
      "  _warn_prf(average, modifier, f\"{metric.capitalize()} is\", len(result))\n",
      "/home/codespace/.local/lib/python3.12/site-packages/sklearn/metrics/_classification.py:1565: UndefinedMetricWarning: Precision is ill-defined and being set to 0.0 in labels with no predicted samples. Use `zero_division` parameter to control this behavior.\n",
      "  _warn_prf(average, modifier, f\"{metric.capitalize()} is\", len(result))\n",
      "/home/codespace/.local/lib/python3.12/site-packages/sklearn/metrics/_classification.py:1565: UndefinedMetricWarning: Precision is ill-defined and being set to 0.0 in labels with no predicted samples. Use `zero_division` parameter to control this behavior.\n",
      "  _warn_prf(average, modifier, f\"{metric.capitalize()} is\", len(result))\n"
     ]
    }
   ],
   "source": [
    "\n",
    "# Evaluate the model\n",
    "accuracy = accuracy_score(y_test, y_pred)\n",
    "print(f'Accuracy: {accuracy:.2f}')\n",
    "print('Classification Report:')\n",
    "print(classification_report(y_test, y_pred))\n"
   ]
  },
  {
   "cell_type": "code",
   "execution_count": 31,
   "metadata": {},
   "outputs": [],
   "source": [
    "# what do the results tell us?\n",
    "# the majority class is almost exclusively predicted, while the minority class is being ignored completely\n",
    "# this might be due to a mismatch of samples/entries"
   ]
  },
  {
   "cell_type": "code",
   "execution_count": 32,
   "metadata": {},
   "outputs": [
    {
     "name": "stdout",
     "output_type": "stream",
     "text": [
      "Train size: (148, 8626), Test size: (37, 8626)\n",
      "Accuracy: 1.0\n",
      "Classification Report:\n",
      "               precision    recall  f1-score   support\n",
      "\n",
      "           0       1.00      1.00      1.00        37\n",
      "\n",
      "    accuracy                           1.00        37\n",
      "   macro avg       1.00      1.00      1.00        37\n",
      "weighted avg       1.00      1.00      1.00        37\n",
      "\n"
     ]
    }
   ],
   "source": [
    "# potential fix:\n",
    "# use only species level for profiling \n",
    "import pandas as pd\n",
    "import numpy as np\n",
    "from sklearn.model_selection import train_test_split\n",
    "from sklearn.metrics import accuracy_score, classification_report\n",
    "import xgboost as xgb\n",
    "\n",
    "# Load the dataset\n",
    "# Replace 'data/mpa4_class.profile' with your actual file path\n",
    "data = pd.read_csv('data/mpa4_class.profile', sep=\"\\t\")\n",
    "\n",
    "# 1. Drop the 'name' column and create features (X)\n",
    "X = data.drop(columns=['name'])\n",
    "\n",
    "# 2. Create binary target labels (y)\n",
    "# Mark rows as '1' if 'name' contains 'self_CRC', otherwise '0'\n",
    "y = data['name'].str.contains('self_CRC').astype(int)\n",
    "\n",
    "# 3. Split the data into training and testing sets\n",
    "X_train, X_test, y_train, y_test = train_test_split(\n",
    "    X, y, test_size=0.2, random_state=42, stratify=y\n",
    ")\n",
    "print(f\"Train size: {X_train.shape}, Test size: {X_test.shape}\")\n",
    "\n",
    "# 4. Convert to DMatrix format for XGBoost\n",
    "dtrain = xgb.DMatrix(X_train, label=y_train)\n",
    "dtest = xgb.DMatrix(X_test, label=y_test)\n",
    "\n",
    "# 5. Set XGBoost parameters\n",
    "params = {\n",
    "    'objective': 'binary:logistic',  # Binary classification\n",
    "    'eval_metric': 'logloss',        # Log-loss as the evaluation metric\n",
    "    'max_depth': 6,                  # Tree depth\n",
    "    'eta': 0.1,                      # Learning rate\n",
    "    'verbosity': 1,                  # Verbose output\n",
    "    'seed': 42                       # Reproducibility\n",
    "}\n",
    "\n",
    "# 6. Train the XGBoost model\n",
    "num_round = 100  # Number of boosting rounds\n",
    "bst = xgb.train(params, dtrain, num_round)\n",
    "\n",
    "# 7. Make predictions on the test set\n",
    "y_pred_prob = bst.predict(dtest)  # Predict probabilities\n",
    "y_pred = (y_pred_prob > 0.5).astype(int)  # Convert to binary predictions\n",
    "\n",
    "# 8. Evaluate the model\n",
    "accuracy = accuracy_score(y_test, y_pred)\n",
    "print(\"Accuracy:\", accuracy)\n",
    "print(\"Classification Report:\\n\", classification_report(y_test, y_pred))\n"
   ]
  },
  {
   "cell_type": "code",
   "execution_count": null,
   "metadata": {},
   "outputs": [],
   "source": []
  }
 ],
 "metadata": {
  "kernelspec": {
   "display_name": "Python 3 (ipykernel)",
   "language": "python",
   "name": "python3"
  },
  "language_info": {
   "codemirror_mode": {
    "name": "ipython",
    "version": 3
   },
   "file_extension": ".py",
   "mimetype": "text/x-python",
   "name": "python",
   "nbconvert_exporter": "python",
   "pygments_lexer": "ipython3",
   "version": "3.12.1"
  }
 },
 "nbformat": 4,
 "nbformat_minor": 2
}
